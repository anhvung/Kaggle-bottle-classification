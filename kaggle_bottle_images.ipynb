{
 "cells": [
  {
   "cell_type": "markdown",
   "metadata": {},
   "source": [
    "<h2>Lion mail drive link to the model: <a href=\"https://drive.google.com/drive/folders/13LU6Z5qObxH6pxdUo9N531-eqFGlvAIV?usp=sharing\">https://drive.google.com/drive/folders/13LU6Z5qObxH6pxdUo9N531-eqFGlvAIV?usp=sharing</a></h2>"
   ]
  },
  {
   "cell_type": "markdown",
   "metadata": {},
   "source": [
    "## Load Data"
   ]
  },
  {
   "cell_type": "code",
   "execution_count": 25,
   "metadata": {
    "tags": []
   },
   "outputs": [
    {
     "name": "stdout",
     "output_type": "stream",
     "text": [
      "Reading folder 0\n",
      "Reading folder 1\n",
      "Reading folder 2\n",
      "Reading folder 3\n",
      "Reading folder 4\n",
      "Reading Test Images\n",
      "Training data shape:  (15000, 128, 128, 3)\n",
      "Training labels shape:  (15000,)\n",
      "Test data shape:  (3500, 128, 128, 3)\n"
     ]
    }
   ],
   "source": [
    "#Generate dataset\n",
    "import os\n",
    "import pandas as pd\n",
    "import numpy as np\n",
    "from PIL import Image\n",
    "\n",
    "\n",
    "#Load Training images and labels\n",
    "train_directory = \"./data/kaggle_train_128/train_128\" #TODO: Enter path for train128 folder (hint: use os.getcwd())\n",
    "image_list=[]\n",
    "label_list=[]\n",
    "for sub_dir in os.listdir(train_directory):\n",
    "    print(\"Reading folder {}\".format(sub_dir))\n",
    "    sub_dir_name=os.path.join(train_directory,sub_dir)\n",
    "    for file in os.listdir(sub_dir_name):\n",
    "        filename = os.fsdecode(file)\n",
    "        if filename.endswith(\".jpg\") or filename.endswith(\".png\"):\n",
    "            image_list.append(np.array(Image.open(os.path.join(sub_dir_name,file))))\n",
    "            label_list.append(int(sub_dir))\n",
    "X_train=np.array(image_list)\n",
    "y_train=np.array(label_list)\n",
    "\n",
    "#Load Test images\n",
    "test_directory = \"./data/kaggle_test_128/test_128\"#TODO: Enter path for test128 folder (hint: use os.getcwd())\n",
    "test_image_list=[]\n",
    "test_df = pd.DataFrame([], columns=['Id', 'X'])\n",
    "print(\"Reading Test Images\")\n",
    "for file in os.listdir(test_directory):\n",
    "    filename = os.fsdecode(file)\n",
    "    if filename.endswith(\".jpg\") or filename.endswith(\".png\"):\n",
    "        test_df = test_df.append({\n",
    "            'Id': filename,\n",
    "            'X': np.array(Image.open(os.path.join(test_directory,file)))\n",
    "        }, ignore_index=True)\n",
    "        \n",
    "test_df['s'] = [int(x.split('.')[0]) for x in test_df['Id']]\n",
    "test_df = test_df.sort_values(by=['s'])\n",
    "test_df = test_df.drop(columns=['s'])\n",
    "X_test = np.stack(test_df['X'])\n",
    "\n",
    "\n",
    "print('Training data shape: ', X_train.shape)\n",
    "print('Training labels shape: ', y_train.shape)\n",
    "print('Test data shape: ', X_test.shape)"
   ]
  },
  {
   "cell_type": "markdown",
   "metadata": {},
   "source": [
    "# Incremental steps are used to train the model.\n",
    "\n",
    "## Step 1: transfer learning with ResNet50V2 and fine tuning with data augmentation\n",
    "\n",
    "## Step 2: transfer learning with DenseNet121 and fine tuning with data augmentation\n",
    "\n",
    "## Step 3: Concactenate both models and do a final transfer learning\n",
    "\n",
    "\n",
    "<h5>Lion mail drive link to the model: <a href=\"https://drive.google.com/drive/folders/13LU6Z5qObxH6pxdUo9N531-eqFGlvAIV?usp=sharing\">https://drive.google.com/drive/folders/13LU6Z5qObxH6pxdUo9N531-eqFGlvAIV?usp=sharing</a></h5>"
   ]
  },
  {
   "cell_type": "code",
   "execution_count": 26,
   "metadata": {},
   "outputs": [
    {
     "name": "stderr",
     "output_type": "stream",
     "text": [
      "C:\\Users\\nguye\\anaconda3\\envs\\envTF24\\lib\\site-packages\\tensorflow\\python\\client\\session.py:1761: UserWarning: An interactive session is already active. This can cause out-of-memory errors in some cases. You must explicitly call `InteractiveSession.close()` to release resources held by the other session(s).\n",
      "  warnings.warn('An interactive session is already active. This can '\n"
     ]
    }
   ],
   "source": [
    "import tensorflow as tf\n",
    "from tensorflow.keras.models import Model\n",
    "from tensorflow.compat.v1 import ConfigProto\n",
    "from tensorflow.compat.v1 import InteractiveSession\n",
    "\n",
    "#from tensorflow import ConfigProto\n",
    "#from tensorflow import InteractiveSession\n",
    "config = ConfigProto()\n",
    "config.gpu_options.allow_growth = True\n",
    "session = InteractiveSession(config=config)"
   ]
  },
  {
   "cell_type": "code",
   "execution_count": 27,
   "metadata": {},
   "outputs": [
    {
     "name": "stdout",
     "output_type": "stream",
     "text": [
      "['/device:CPU:0', '/device:GPU:0']\n"
     ]
    }
   ],
   "source": [
    "from tensorflow.python.client import device_lib\n",
    "def get_available_devices():\n",
    "    local_device_protos = device_lib.list_local_devices()\n",
    "    return [x.name for x in local_device_protos]\n",
    "print(get_available_devices()) "
   ]
  },
  {
   "cell_type": "code",
   "execution_count": 28,
   "metadata": {},
   "outputs": [],
   "source": [
    "# YOUR CODE HERE\n",
    "# suffle data\n",
    "shuffler = np.random.permutation(len(X_train))\n",
    "X_train = X_train[shuffler]\n",
    "y_train = y_train[shuffler]\n",
    "\n",
    "y=tf.keras.utils.to_categorical(y_train)\n",
    "# validation data and training data\n",
    "Xval=X_train[0:2000]\n",
    "yval=y[0:2000]\n",
    "Xtrain=X_train[2000:]\n",
    "ytrain=y[2000:]\n"
   ]
  },
  {
   "cell_type": "code",
   "execution_count": 5,
   "metadata": {},
   "outputs": [],
   "source": [
    "#for future data augmentation\n",
    "from tensorflow.keras.preprocessing.image import ImageDataGenerator\n",
    "bs=64\n",
    "epc=13#not used\n"
   ]
  },
  {
   "cell_type": "markdown",
   "metadata": {},
   "source": [
    "# Step 1a:\n",
    "transfer learning with ResNet50V2 using only the original training data (with 13% of the data for validation)"
   ]
  },
  {
   "cell_type": "code",
   "execution_count": 15,
   "metadata": {},
   "outputs": [],
   "source": [
    "#model  ResNet50 pretrained\n",
    "#from tensorflow.keras.applications.inception_v3 import InceptionV3\n",
    "#base_model = InceptionV3(input_shape = (128, 128, 3), include_top = False, weights = 'imagenet')\n",
    "\n",
    "\n",
    "from tensorflow.keras.applications.resnet_v2 import ResNet50V2\n",
    "base_model = ResNet50V2( include_top=False, weights=\"imagenet\")\n",
    "preprocess_input =tf.keras.applications.resnet_v2.preprocess_input #to ensure proper input format into resnet50V2\n",
    "\n",
    "for layer in base_model.layers: #Freeze resnet50v2 layers for Transfer learning \n",
    "    layer.trainable = False"
   ]
  },
  {
   "cell_type": "code",
   "execution_count": 6,
   "metadata": {},
   "outputs": [],
   "source": [
    "from tensorflow.python.keras.models import Sequential\n",
    "from tensorflow.python.keras.layers import Dense, Flatten, GlobalAveragePooling2D,Dropout\n",
    "from tensorflow.keras import regularizers\n",
    "#input\n",
    "inputs = tf.keras.Input(shape=(128, 128, 3))\n",
    "# Preprocess for ResNet50v2layer \n",
    "x = preprocess_input(inputs)\n",
    "# ResNet50v2layer \n",
    "x = base_model(x, training=False)\n",
    "x=GlobalAveragePooling2D()(x)\n",
    "\n",
    "\n",
    "# we add dense layers so that the model can learn more complex functions and classify for better results.\n",
    "# Regularization to avoid overfitting\n",
    "x=Dense(2048,activation='relu',kernel_regularizer=regularizers.l1_l2(l1=1e-5, l2=1e-4),\n",
    "    bias_regularizer=regularizers.l2(1e-4))(x) \n",
    "x=Dropout(0.2)(x)\n",
    "x=Dense(2048,activation='relu',kernel_regularizer=regularizers.l1_l2(l1=1e-5, l2=1e-4),\n",
    "    bias_regularizer=regularizers.l2(1e-4))(x)\n",
    "x=Dropout(0.2)(x)\n",
    "x=Dense(512,activation='relu',kernel_regularizer=regularizers.l1_l2(l1=1e-5, l2=1e-4),\n",
    "    bias_regularizer=regularizers.l2(1e-4))(x)\n",
    "x=Dense(256,activation='relu')(x)\n",
    "preds=Dense(5,activation='softmax')(x)\n",
    "\n",
    "\n",
    "model=Model(inputs=inputs,outputs=preds)"
   ]
  },
  {
   "cell_type": "code",
   "execution_count": 7,
   "metadata": {},
   "outputs": [
    {
     "name": "stdout",
     "output_type": "stream",
     "text": [
      "Model: \"model\"\n",
      "_________________________________________________________________\n",
      "Layer (type)                 Output Shape              Param #   \n",
      "=================================================================\n",
      "input_2 (InputLayer)         [(None, 128, 128, 3)]     0         \n",
      "_________________________________________________________________\n",
      "tf.math.truediv (TFOpLambda) (None, 128, 128, 3)       0         \n",
      "_________________________________________________________________\n",
      "tf.math.subtract (TFOpLambda (None, 128, 128, 3)       0         \n",
      "_________________________________________________________________\n",
      "resnet50v2 (Functional)      (None, None, None, 2048)  23564800  \n",
      "_________________________________________________________________\n",
      "global_average_pooling2d (Gl (None, 2048)              0         \n",
      "_________________________________________________________________\n",
      "dense (Dense)                (None, 2048)              4196352   \n",
      "_________________________________________________________________\n",
      "dropout (Dropout)            (None, 2048)              0         \n",
      "_________________________________________________________________\n",
      "dense_1 (Dense)              (None, 2048)              4196352   \n",
      "_________________________________________________________________\n",
      "dropout_1 (Dropout)          (None, 2048)              0         \n",
      "_________________________________________________________________\n",
      "dense_2 (Dense)              (None, 512)               1049088   \n",
      "_________________________________________________________________\n",
      "dense_3 (Dense)              (None, 256)               131328    \n",
      "_________________________________________________________________\n",
      "dense_4 (Dense)              (None, 5)                 1285      \n",
      "=================================================================\n",
      "Total params: 33,139,205\n",
      "Trainable params: 9,574,405\n",
      "Non-trainable params: 23,564,800\n",
      "_________________________________________________________________\n"
     ]
    }
   ],
   "source": [
    "base_learning_rate = 0.0001\n",
    "model.compile(optimizer=tf.keras.optimizers.Adam(learning_rate=base_learning_rate),loss='categorical_crossentropy', metrics = ['acc'])\n",
    "model.summary()"
   ]
  },
  {
   "cell_type": "code",
   "execution_count": 44,
   "metadata": {},
   "outputs": [
    {
     "name": "stdout",
     "output_type": "stream",
     "text": [
      "Epoch 1/6\n",
      "204/204 [==============================] - 25s 111ms/step - loss: 3.5372 - acc: 0.4813 - val_loss: 3.1002 - val_acc: 0.6270\n",
      "Epoch 2/6\n",
      "204/204 [==============================] - 15s 72ms/step - loss: 2.9895 - acc: 0.6542 - val_loss: 2.8519 - val_acc: 0.6725\n",
      "Epoch 3/6\n",
      "204/204 [==============================] - 15s 72ms/step - loss: 2.7486 - acc: 0.7246 - val_loss: 2.7742 - val_acc: 0.6900\n",
      "Epoch 4/6\n",
      "204/204 [==============================] - 15s 73ms/step - loss: 2.5843 - acc: 0.7615 - val_loss: 2.7069 - val_acc: 0.6895\n",
      "Epoch 5/6\n",
      "204/204 [==============================] - 15s 73ms/step - loss: 2.4128 - acc: 0.8150 - val_loss: 2.6972 - val_acc: 0.6930\n",
      "Epoch 6/6\n",
      "204/204 [==============================] - 15s 73ms/step - loss: 2.2597 - acc: 0.8605 - val_loss: 2.6312 - val_acc: 0.7250\n"
     ]
    }
   ],
   "source": [
    "history=model.fit(x=Xtrain, y=ytrain,\n",
    "                   batch_size = bs,\n",
    "                   epochs = 6,\n",
    "                   validation_data=(Xval, yval),shuffle=True)\n"
   ]
  },
  {
   "cell_type": "code",
   "execution_count": 45,
   "metadata": {},
   "outputs": [
    {
     "name": "stdout",
     "output_type": "stream",
     "text": [
      "INFO:tensorflow:Assets written to: model1\\assets\n"
     ]
    }
   ],
   "source": [
    "#Save step 1 for potential reuse\n",
    "model.save(\"model1\")"
   ]
  },
  {
   "cell_type": "markdown",
   "metadata": {},
   "source": [
    "# Step 1b\n",
    "\n",
    "More transfer learning using conservative data augmentation on the same data\n",
    "\n"
   ]
  },
  {
   "cell_type": "code",
   "execution_count": 46,
   "metadata": {},
   "outputs": [],
   "source": [
    "train_datagen = ImageDataGenerator(\n",
    "        shear_range=0.1,\n",
    "        zoom_range=0.1,\n",
    "        vertical_flip=True,\n",
    "        rotation_range=10.,\n",
    "        fill_mode='reflect', \n",
    "        width_shift_range = 0.1, \n",
    "        height_shift_range = 0.1)\n",
    "        #brightness_range=(0.3, 1.4),\n",
    "        #preprocessing_function=add_noise)\n",
    "\n",
    "train_generator = train_datagen.flow(Xtrain, ytrain, batch_size=bs)\n",
    "step_size_train=train_generator.n//train_generator.batch_size"
   ]
  },
  {
   "cell_type": "code",
   "execution_count": 47,
   "metadata": {},
   "outputs": [
    {
     "name": "stdout",
     "output_type": "stream",
     "text": [
      "Epoch 1/6\n",
      "203/203 [==============================] - 51s 234ms/step - loss: 2.6573 - acc: 0.6589 - val_loss: 2.1799 - val_acc: 0.8515\n",
      "Epoch 2/6\n",
      "203/203 [==============================] - 42s 206ms/step - loss: 2.0680 - acc: 0.8525 - val_loss: 1.8727 - val_acc: 0.9060\n",
      "Epoch 3/6\n",
      "203/203 [==============================] - 41s 203ms/step - loss: 1.8384 - acc: 0.8919 - val_loss: 1.6484 - val_acc: 0.9290\n",
      "Epoch 4/6\n",
      "203/203 [==============================] - 41s 204ms/step - loss: 1.6520 - acc: 0.9122 - val_loss: 1.7058 - val_acc: 0.8705\n",
      "Epoch 5/6\n",
      "203/203 [==============================] - 41s 204ms/step - loss: 1.4945 - acc: 0.9222 - val_loss: 1.3952 - val_acc: 0.9350\n",
      "Epoch 6/6\n",
      "203/203 [==============================] - 41s 204ms/step - loss: 1.3617 - acc: 0.9275 - val_loss: 1.3214 - val_acc: 0.9190\n",
      "INFO:tensorflow:Assets written to: model2\\assets\n"
     ]
    }
   ],
   "source": [
    "#step2 \n",
    "# start from where we ended in step 1 (same weights)\n",
    "model2 = tf.keras.models.load_model(\"model1\")\n",
    "history=model2.fit(train_generator,\n",
    "                   steps_per_epoch = step_size_train,\n",
    "                   epochs = 6,\n",
    "                   validation_data=(Xval, yval),shuffle=True)\n",
    "model2.save(\"model2\") #Save step 2 for potential reuse"
   ]
  },
  {
   "cell_type": "markdown",
   "metadata": {},
   "source": [
    "# Step 1c\n",
    "\n",
    "More transfer learning using more aggressive data augmentation settings on the same data\n"
   ]
  },
  {
   "cell_type": "code",
   "execution_count": 6,
   "metadata": {},
   "outputs": [],
   "source": [
    "#Even more data augmentation\n",
    "def add_noise(img):\n",
    "    '''Add random noise to an image'''\n",
    "    noise = np.random.normal(0, 5, img.shape)\n",
    "    img += noise\n",
    "    np.clip(img, 0., 255.)\n",
    "    return img\n",
    "train_datagen = ImageDataGenerator(\n",
    "        shear_range=0.2,\n",
    "        zoom_range=0.2,\n",
    "        vertical_flip=True,\n",
    "        rotation_range=20.,\n",
    "        fill_mode='reflect', \n",
    "        width_shift_range = 0.15, \n",
    "        height_shift_range = 0.15,\n",
    "        brightness_range=(0.3, 1.4),\n",
    "        preprocessing_function=add_noise)\n",
    "\n",
    "train_generator = train_datagen.flow(Xtrain, ytrain, batch_size=bs)\n",
    "step_size_train=train_generator.n//train_generator.batch_size"
   ]
  },
  {
   "cell_type": "code",
   "execution_count": 49,
   "metadata": {},
   "outputs": [
    {
     "name": "stdout",
     "output_type": "stream",
     "text": [
      "Epoch 1/2\n",
      "203/203 [==============================] - 67s 311ms/step - loss: 1.3224 - acc: 0.8724 - val_loss: 1.0170 - val_acc: 0.9385\n",
      "Epoch 2/2\n",
      "203/203 [==============================] - 63s 311ms/step - loss: 1.0766 - acc: 0.8920 - val_loss: 0.8853 - val_acc: 0.9445\n",
      "INFO:tensorflow:Assets written to: model_aug\\assets\n"
     ]
    }
   ],
   "source": [
    "#step3\n",
    "# start from where we ended in step 2 (same weights)\n",
    "model3= tf.keras.models.load_model(\"model2\")\n",
    "history=model3.fit(train_generator,\n",
    "                   steps_per_epoch = step_size_train,\n",
    "                   epochs = 2,\n",
    "                   validation_data=(Xval, yval),shuffle=True)\n",
    "model3.save(\"model_aug\") #Save step 3 for potential reuse"
   ]
  },
  {
   "cell_type": "markdown",
   "metadata": {},
   "source": [
    "# Step 1d\n",
    "\n",
    "Fine tuning"
   ]
  },
  {
   "cell_type": "code",
   "execution_count": 50,
   "metadata": {},
   "outputs": [],
   "source": [
    "#fine-tuning\n",
    "# start from where we ended in step 3 (same weights)\n",
    "model4 = tf.keras.models.load_model(\"model_aug\")\n",
    "for layer in model4.layers:\n",
    "    if (layer.name=='resnet50v2'):\n",
    "        layer.trainable=True\n",
    "        for lay in layer.layers:\n",
    "            lay.trainable = True"
   ]
  },
  {
   "cell_type": "code",
   "execution_count": 51,
   "metadata": {},
   "outputs": [
    {
     "name": "stdout",
     "output_type": "stream",
     "text": [
      "Epoch 1/3\n",
      "203/203 [==============================] - 65s 305ms/step - loss: 0.9271 - acc: 0.8949 - val_loss: 0.7920 - val_acc: 0.9275\n",
      "Epoch 2/3\n",
      "203/203 [==============================] - 62s 304ms/step - loss: 0.8051 - acc: 0.9038 - val_loss: 0.6392 - val_acc: 0.9505\n",
      "Epoch 3/3\n",
      "203/203 [==============================] - 64s 314ms/step - loss: 0.7192 - acc: 0.9099 - val_loss: 0.5941 - val_acc: 0.9420\n"
     ]
    }
   ],
   "source": [
    "history=model4.fit(train_generator,\n",
    "                   steps_per_epoch = step_size_train,\n",
    "                   epochs =3,\n",
    "                   validation_data=(Xval, yval),shuffle=True)"
   ]
  },
  {
   "cell_type": "code",
   "execution_count": 52,
   "metadata": {},
   "outputs": [
    {
     "name": "stdout",
     "output_type": "stream",
     "text": [
      "INFO:tensorflow:Assets written to: model4\\assets\n"
     ]
    }
   ],
   "source": [
    "#Save step 4 for potential reuse\n",
    "model4.save(\"model4\")"
   ]
  },
  {
   "cell_type": "markdown",
   "metadata": {},
   "source": [
    "# Step 1e\n",
    "More fine tuning with different hyper parameters on all the provided training data\n",
    "(Kaggle best score was around 97.8% accuracy)"
   ]
  },
  {
   "cell_type": "code",
   "execution_count": 7,
   "metadata": {},
   "outputs": [],
   "source": [
    "# start from where we ended in step 4 (same weights)\n",
    "model5 = tf.keras.models.load_model(\"model4\")"
   ]
  },
  {
   "cell_type": "code",
   "execution_count": 10,
   "metadata": {},
   "outputs": [],
   "source": [
    "#full data set this time (15000 pictures)\n",
    "#Different hyperparameters\n",
    "bs=32\n",
    "train_generator = train_datagen.flow(X_train, y, batch_size=bs)\n",
    "step_size_train=train_generator.n//train_generator.batch_size\n",
    "base_learning_rate = 0.00005\n",
    "#need to compile because of the different learning rate\n",
    "model5.compile(optimizer=tf.keras.optimizers.Adam(learning_rate=base_learning_rate),loss='categorical_crossentropy', metrics = ['acc'])\n"
   ]
  },
  {
   "cell_type": "code",
   "execution_count": null,
   "metadata": {},
   "outputs": [
    {
     "name": "stdout",
     "output_type": "stream",
     "text": [
      "Epoch 1/13\n",
      "468/468 [==============================] - 79s 131ms/step - loss: 0.5939 - acc: 0.9296\n",
      "Epoch 2/13\n",
      "468/468 [==============================] - 63s 135ms/step - loss: 0.5327 - acc: 0.9337\n",
      "Epoch 3/13\n",
      "468/468 [==============================] - 61s 131ms/step - loss: 0.4895 - acc: 0.9368\n",
      "Epoch 4/13\n",
      "468/468 [==============================] - 62s 133ms/step - loss: 0.4668 - acc: 0.9391\n",
      "Epoch 5/13\n",
      "468/468 [==============================] - 62s 133ms/step - loss: 0.4269 - acc: 0.9421\n",
      "Epoch 6/13\n",
      "468/468 [==============================] - 63s 134ms/step - loss: 0.4028 - acc: 0.9417\n",
      "Epoch 7/13\n",
      "468/468 [==============================] - 63s 134ms/step - loss: 0.3704 - acc: 0.9439\n",
      "Epoch 8/13\n",
      "468/468 [==============================] - 63s 134ms/step - loss: 0.3716 - acc: 0.9420\n",
      "Epoch 9/13\n",
      "468/468 [==============================] - 62s 133ms/step - loss: 0.3271 - acc: 0.9517\n",
      "Epoch 10/13\n",
      "468/468 [==============================] - 63s 134ms/step - loss: 0.3051 - acc: 0.9543\n",
      "Epoch 11/13\n",
      "468/468 [==============================] - 63s 135ms/step - loss: 0.3010 - acc: 0.9519\n",
      "Epoch 12/13\n",
      "468/468 [==============================] - 63s 134ms/step - loss: 0.2965 - acc: 0.9480\n",
      "Epoch 13/13\n",
      "423/468 [==========================>...] - ETA: 6s - loss: 0.2718 - acc: 0.9565"
     ]
    }
   ],
   "source": [
    "history=model5.fit(train_generator,steps_per_epoch = step_size_train,epochs =13,shuffle=True)\n",
    "model5.save(\"model5\") #Save step 5 for potential reuse"
   ]
  },
  {
   "cell_type": "markdown",
   "metadata": {},
   "source": [
    "# Step 1f\n",
    "More fine tuning with even more aggressive data augmentation, with different hyper parameters for stability.\n",
    "\n",
    "Accuracy with temporary kaggle estimation: 98.204% accuracy"
   ]
  },
  {
   "cell_type": "code",
   "execution_count": 6,
   "metadata": {},
   "outputs": [],
   "source": [
    "bs=128\n",
    "def add_noise(img):\n",
    "    '''Add random noise to an image'''\n",
    "    noise = np.random.normal(0, 7, img.shape)\n",
    "    img += noise\n",
    "    np.clip(img, 0., 255.)\n",
    "    return img\n",
    "train_datagen = ImageDataGenerator(\n",
    "        shear_range=0.2,\n",
    "        zoom_range=0.2,\n",
    "        vertical_flip=True,\n",
    "        rotation_range=35.,\n",
    "        fill_mode='reflect', \n",
    "        width_shift_range = 0.2, \n",
    "        height_shift_range = 0.2,\n",
    "        brightness_range=(0.3, 1.3),\n",
    "        preprocessing_function=add_noise)\n",
    "\n",
    "train_generator = train_datagen.flow(Xtrain, ytrain, batch_size=bs)\n",
    "step_size_train=train_generator.n//train_generator.batch_size"
   ]
  },
  {
   "cell_type": "code",
   "execution_count": 7,
   "metadata": {},
   "outputs": [
    {
     "name": "stdout",
     "output_type": "stream",
     "text": [
      "Epoch 1/3\n",
      "101/101 [==============================] - 78s 602ms/step - loss: 0.3860 - acc: 0.9125\n",
      "Epoch 2/3\n",
      "101/101 [==============================] - 52s 507ms/step - loss: 0.3203 - acc: 0.9315\n",
      "Epoch 3/3\n",
      "101/101 [==============================] - 52s 509ms/step - loss: 0.2892 - acc: 0.9417\n",
      "INFO:tensorflow:Assets written to: model6\\assets\n"
     ]
    }
   ],
   "source": [
    "model6 = tf.keras.models.load_model(\"model5\") # start from where we ended in step 5 (same weights)\n",
    "base_learning_rate = 0.00005\n",
    "model6.compile(optimizer=tf.keras.optimizers.Adam(learning_rate=base_learning_rate),loss='categorical_crossentropy', metrics = ['acc'])\n",
    "history=model6.fit(train_generator,steps_per_epoch = step_size_train,epochs =3,shuffle=True)\n",
    "model6.save(\"model6\") #Save step 6 for potential reuse"
   ]
  },
  {
   "cell_type": "markdown",
   "metadata": {},
   "source": [
    "# Step 2a:\n",
    "transfer learning with DenseNet121 using only the original training data (with 13% of the data for validation)"
   ]
  },
  {
   "cell_type": "code",
   "execution_count": 5,
   "metadata": {},
   "outputs": [],
   "source": [
    "# YOUR CODE HERE\n",
    "# suffle data\n",
    "shuffler = np.random.permutation(len(X_train))\n",
    "X_train = X_train[shuffler]\n",
    "y_train = y_train[shuffler]\n",
    "\n",
    "y=tf.keras.utils.to_categorical(y_train)\n",
    "# validation data and training data\n",
    "Xval=X_train[0:2000]\n",
    "yval=y[0:2000]\n",
    "Xtrain=X_train[2000:]\n",
    "ytrain=y[2000:]\n"
   ]
  },
  {
   "cell_type": "code",
   "execution_count": 6,
   "metadata": {},
   "outputs": [],
   "source": [
    "#for future data augmentation\n",
    "from tensorflow.keras.preprocessing.image import ImageDataGenerator\n",
    "bs=64\n",
    "epc=13#not used\n"
   ]
  },
  {
   "cell_type": "code",
   "execution_count": 7,
   "metadata": {},
   "outputs": [],
   "source": [
    "base_model = tf.keras.applications.densenet.DenseNet121( include_top=False, weights=\"imagenet\")\n",
    "preprocess_input =tf.keras.applications.densenet.preprocess_input #to ensure proper input format into resnet50V2\n",
    "\n",
    "for layer in base_model.layers: #Freeze resnet50v2 layers for Transfer learning \n",
    "    layer.trainable = False"
   ]
  },
  {
   "cell_type": "code",
   "execution_count": 8,
   "metadata": {},
   "outputs": [],
   "source": [
    "from tensorflow.python.keras.models import Sequential\n",
    "from tensorflow.python.keras.layers import Dense, Flatten, GlobalAveragePooling2D,Dropout\n",
    "from tensorflow.keras import regularizers\n",
    "#input\n",
    "inputs = tf.keras.Input(shape=(128, 128, 3))\n",
    "# Preprocess for ResNet50v2layer \n",
    "x = preprocess_input(inputs)\n",
    "# ResNet50v2layer \n",
    "x = base_model(x, training=False)\n",
    "x=GlobalAveragePooling2D()(x)\n",
    "\n",
    "\n",
    "# we add dense layers so that the model can learn more complex functions and classify for better results.\n",
    "# Regularization to avoid overfitting\n",
    "x=Dense(1024,activation='relu',kernel_regularizer=regularizers.l1_l2(l1=1e-5, l2=1e-4),\n",
    "    bias_regularizer=regularizers.l2(1e-4))(x) \n",
    "x=Dropout(0.2)(x)\n",
    "x=Dense(2048,activation='relu',kernel_regularizer=regularizers.l1_l2(l1=1e-5, l2=1e-4),\n",
    "    bias_regularizer=regularizers.l2(1e-4))(x)\n",
    "x=Dropout(0.2)(x)\n",
    "x=Dense(512,activation='relu',kernel_regularizer=regularizers.l1_l2(l1=1e-5, l2=1e-4),\n",
    "    bias_regularizer=regularizers.l2(1e-4))(x)\n",
    "x=Dense(256,activation='relu')(x)\n",
    "preds=Dense(5,activation='softmax')(x)\n",
    "\n",
    "\n",
    "model=Model(inputs=inputs,outputs=preds)"
   ]
  },
  {
   "cell_type": "code",
   "execution_count": 9,
   "metadata": {},
   "outputs": [
    {
     "name": "stdout",
     "output_type": "stream",
     "text": [
      "Model: \"model\"\n",
      "_________________________________________________________________\n",
      "Layer (type)                 Output Shape              Param #   \n",
      "=================================================================\n",
      "input_2 (InputLayer)         [(None, 128, 128, 3)]     0         \n",
      "_________________________________________________________________\n",
      "tf.math.truediv (TFOpLambda) (None, 128, 128, 3)       0         \n",
      "_________________________________________________________________\n",
      "tf.nn.bias_add (TFOpLambda)  (None, 128, 128, 3)       0         \n",
      "_________________________________________________________________\n",
      "tf.math.truediv_1 (TFOpLambd (None, 128, 128, 3)       0         \n",
      "_________________________________________________________________\n",
      "densenet121 (Functional)     (None, None, None, 1024)  7037504   \n",
      "_________________________________________________________________\n",
      "global_average_pooling2d (Gl (None, 1024)              0         \n",
      "_________________________________________________________________\n",
      "dense (Dense)                (None, 1024)              1049600   \n",
      "_________________________________________________________________\n",
      "dropout (Dropout)            (None, 1024)              0         \n",
      "_________________________________________________________________\n",
      "dense_1 (Dense)              (None, 2048)              2099200   \n",
      "_________________________________________________________________\n",
      "dropout_1 (Dropout)          (None, 2048)              0         \n",
      "_________________________________________________________________\n",
      "dense_2 (Dense)              (None, 512)               1049088   \n",
      "_________________________________________________________________\n",
      "dense_3 (Dense)              (None, 256)               131328    \n",
      "_________________________________________________________________\n",
      "dense_4 (Dense)              (None, 5)                 1285      \n",
      "=================================================================\n",
      "Total params: 11,368,005\n",
      "Trainable params: 4,330,501\n",
      "Non-trainable params: 7,037,504\n",
      "_________________________________________________________________\n"
     ]
    }
   ],
   "source": [
    "base_learning_rate = 0.0001\n",
    "model.compile(optimizer=tf.keras.optimizers.Adam(learning_rate=base_learning_rate),loss='categorical_crossentropy', metrics = ['acc'])\n",
    "model.summary()"
   ]
  },
  {
   "cell_type": "code",
   "execution_count": 10,
   "metadata": {},
   "outputs": [
    {
     "name": "stdout",
     "output_type": "stream",
     "text": [
      "Epoch 1/6\n",
      "204/204 [==============================] - 66s 216ms/step - loss: 2.6331 - acc: 0.4175 - val_loss: 2.1189 - val_acc: 0.6470\n",
      "Epoch 2/6\n",
      "204/204 [==============================] - 16s 77ms/step - loss: 2.0869 - acc: 0.6315 - val_loss: 1.9583 - val_acc: 0.6765\n",
      "Epoch 3/6\n",
      "204/204 [==============================] - 16s 77ms/step - loss: 1.9025 - acc: 0.6883 - val_loss: 1.8449 - val_acc: 0.6985\n",
      "Epoch 4/6\n",
      "204/204 [==============================] - 16s 77ms/step - loss: 1.7572 - acc: 0.7383 - val_loss: 1.7895 - val_acc: 0.7165\n",
      "Epoch 5/6\n",
      "204/204 [==============================] - 16s 77ms/step - loss: 1.6512 - acc: 0.7651 - val_loss: 1.7906 - val_acc: 0.7110\n",
      "Epoch 6/6\n",
      "204/204 [==============================] - 16s 77ms/step - loss: 1.5760 - acc: 0.7858 - val_loss: 1.7468 - val_acc: 0.7270\n"
     ]
    }
   ],
   "source": [
    "history=model.fit(x=Xtrain, y=ytrain,\n",
    "                   batch_size = bs,\n",
    "                   epochs = 6,\n",
    "                   validation_data=(Xval, yval),shuffle=True)\n"
   ]
  },
  {
   "cell_type": "code",
   "execution_count": 11,
   "metadata": {},
   "outputs": [
    {
     "name": "stdout",
     "output_type": "stream",
     "text": [
      "INFO:tensorflow:Assets written to: ./densenet_models/model1\\assets\n"
     ]
    }
   ],
   "source": [
    "#Save step 1 for potential reuse\n",
    "model.save(\"./densenet_models/model1\")"
   ]
  },
  {
   "cell_type": "markdown",
   "metadata": {},
   "source": [
    "# Step 2b\n",
    "\n",
    "More transfer learning using conservative data augmentation on the same data\n",
    "\n"
   ]
  },
  {
   "cell_type": "code",
   "execution_count": null,
   "metadata": {},
   "outputs": [],
   "source": [
    "train_datagen = ImageDataGenerator(\n",
    "        shear_range=0.1,\n",
    "        zoom_range=0.1,\n",
    "        vertical_flip=True,\n",
    "        rotation_range=10.,\n",
    "        fill_mode='reflect', \n",
    "        width_shift_range = 0.1, \n",
    "        height_shift_range = 0.1)\n",
    "        #brightness_range=(0.3, 1.4),\n",
    "        #preprocessing_function=add_noise)\n",
    "\n",
    "train_generator = train_datagen.flow(Xtrain, ytrain, batch_size=bs)\n",
    "step_size_train=train_generator.n//train_generator.batch_size"
   ]
  },
  {
   "cell_type": "code",
   "execution_count": null,
   "metadata": {},
   "outputs": [],
   "source": [
    "#step2 \n",
    "# start from where we ended in step 1 (same weights)\n",
    "model2 = tf.keras.models.load_model(\"./densenet_models/model1\")\n",
    "history=model2.fit(train_generator,\n",
    "                   steps_per_epoch = step_size_train,\n",
    "                   epochs = 6,\n",
    "                   validation_data=(Xval, yval),shuffle=True)\n",
    "model2.save(\"./densenet_models/model2\") #Save step 2 for potential reuse"
   ]
  },
  {
   "cell_type": "markdown",
   "metadata": {},
   "source": [
    "# Step 2c\n",
    "\n",
    "More transfer learning using more aggressive data augmentation settings on the same data\n"
   ]
  },
  {
   "cell_type": "code",
   "execution_count": 7,
   "metadata": {},
   "outputs": [],
   "source": [
    "#Even more data augmentation\n",
    "def add_noise(img):\n",
    "    '''Add random noise to an image'''\n",
    "    noise = np.random.normal(0, 5, img.shape)\n",
    "    img += noise\n",
    "    np.clip(img, 0., 255.)\n",
    "    return img\n",
    "train_datagen = ImageDataGenerator(\n",
    "        shear_range=0.2,\n",
    "        zoom_range=0.2,\n",
    "        vertical_flip=True,\n",
    "        rotation_range=20.,\n",
    "        fill_mode='reflect', \n",
    "        width_shift_range = 0.15, \n",
    "        height_shift_range = 0.15,\n",
    "        brightness_range=(0.3, 1.4),\n",
    "        preprocessing_function=add_noise)\n",
    "\n",
    "train_generator = train_datagen.flow(Xtrain, ytrain, batch_size=bs)\n",
    "step_size_train=train_generator.n//train_generator.batch_size"
   ]
  },
  {
   "cell_type": "code",
   "execution_count": 7,
   "metadata": {},
   "outputs": [
    {
     "name": "stdout",
     "output_type": "stream",
     "text": [
      "203/203 [==============================] - 130s 484ms/step - loss: 1.0024 - acc: 0.9106 - val_loss: 0.8209 - val_acc: 0.9625\n",
      "INFO:tensorflow:Assets written to: ./densenet_models/model_aug\\assets\n"
     ]
    }
   ],
   "source": [
    "#step3\n",
    "# start from where we ended in step 2 (same weights)\n",
    "model3= tf.keras.models.load_model(\"./densenet_models/model2\")\n",
    "history=model3.fit(train_generator,\n",
    "                   steps_per_epoch = step_size_train,\n",
    "                   epochs = 1,\n",
    "                   validation_data=(Xval, yval),shuffle=True)\n",
    "model3.save(\"./densenet_models/model_aug\") #Save step 3 for potential reuse"
   ]
  },
  {
   "cell_type": "markdown",
   "metadata": {},
   "source": [
    "# Step 2d\n",
    "\n",
    "Fine tuning"
   ]
  },
  {
   "cell_type": "code",
   "execution_count": 6,
   "metadata": {},
   "outputs": [],
   "source": [
    "#fine-tuning\n",
    "# start from where we ended in step 3 (same weights)\n",
    "model4 = tf.keras.models.load_model(\"./densenet_models/model_aug\")\n"
   ]
  },
  {
   "cell_type": "code",
   "execution_count": 10,
   "metadata": {},
   "outputs": [
    {
     "name": "stdout",
     "output_type": "stream",
     "text": [
      "input_2\n",
      "tf.math.truediv\n",
      "tf.nn.bias_add\n",
      "tf.math.truediv_1\n",
      "densenet121\n",
      "global_average_pooling2d\n",
      "dense\n",
      "dropout\n",
      "dense_1\n",
      "dropout_1\n",
      "dense_2\n",
      "dense_3\n",
      "dense_4\n",
      "Model: \"model\"\n",
      "_________________________________________________________________\n",
      "Layer (type)                 Output Shape              Param #   \n",
      "=================================================================\n",
      "input_2 (InputLayer)         [(None, 128, 128, 3)]     0         \n",
      "_________________________________________________________________\n",
      "tf.math.truediv (TFOpLambda) (None, 128, 128, 3)       0         \n",
      "_________________________________________________________________\n",
      "tf.nn.bias_add (TFOpLambda)  (None, 128, 128, 3)       0         \n",
      "_________________________________________________________________\n",
      "tf.math.truediv_1 (TFOpLambd (None, 128, 128, 3)       0         \n",
      "_________________________________________________________________\n",
      "densenet121 (Functional)     (None, None, None, 1024)  7037504   \n",
      "_________________________________________________________________\n",
      "global_average_pooling2d (Gl (None, 1024)              0         \n",
      "_________________________________________________________________\n",
      "dense (Dense)                (None, 1024)              1049600   \n",
      "_________________________________________________________________\n",
      "dropout (Dropout)            (None, 1024)              0         \n",
      "_________________________________________________________________\n",
      "dense_1 (Dense)              (None, 2048)              2099200   \n",
      "_________________________________________________________________\n",
      "dropout_1 (Dropout)          (None, 2048)              0         \n",
      "_________________________________________________________________\n",
      "dense_2 (Dense)              (None, 512)               1049088   \n",
      "_________________________________________________________________\n",
      "dense_3 (Dense)              (None, 256)               131328    \n",
      "_________________________________________________________________\n",
      "dense_4 (Dense)              (None, 5)                 1285      \n",
      "=================================================================\n",
      "Total params: 11,368,005\n",
      "Trainable params: 11,284,357\n",
      "Non-trainable params: 83,648\n",
      "_________________________________________________________________\n"
     ]
    }
   ],
   "source": [
    "for layer in model4.layers:\n",
    "    print(layer.name)\n",
    "    if (layer.name=='densenet121'):\n",
    "        layer.trainable=True\n",
    "        for lay in layer.layers:\n",
    "            lay.trainable = True\n",
    "model4.summary()"
   ]
  },
  {
   "cell_type": "code",
   "execution_count": 13,
   "metadata": {},
   "outputs": [
    {
     "name": "stdout",
     "output_type": "stream",
     "text": [
      "Epoch 1/2\n",
      "203/203 [==============================] - 130s 486ms/step - loss: 0.8734 - acc: 0.9243 - val_loss: 0.7060 - val_acc: 0.9710\n",
      "Epoch 2/2\n",
      "203/203 [==============================] - 57s 279ms/step - loss: 0.7795 - acc: 0.9339 - val_loss: 0.6564 - val_acc: 0.9720\n"
     ]
    }
   ],
   "source": [
    "history=model4.fit(train_generator,\n",
    "                   steps_per_epoch = step_size_train,\n",
    "                   epochs =2,\n",
    "                   validation_data=(Xval, yval),shuffle=True)"
   ]
  },
  {
   "cell_type": "code",
   "execution_count": 14,
   "metadata": {},
   "outputs": [
    {
     "name": "stdout",
     "output_type": "stream",
     "text": [
      "INFO:tensorflow:Assets written to: ./densenet_models/model4\\assets\n"
     ]
    }
   ],
   "source": [
    "#Save step 4 for potential reuse\n",
    "model4.save(\"./densenet_models/model4\")"
   ]
  },
  {
   "cell_type": "markdown",
   "metadata": {},
   "source": [
    "# Step 2e\n",
    "More fine tuning with even more aggressive data augmentation, with different hyper parameters for stability."
   ]
  },
  {
   "cell_type": "code",
   "execution_count": 6,
   "metadata": {},
   "outputs": [],
   "source": [
    "bs=80\n",
    "def add_noise(img):\n",
    "    '''Add random noise to an image'''\n",
    "    noise = np.random.normal(0, 7, img.shape)\n",
    "    img += noise\n",
    "    np.clip(img, 0., 255.)\n",
    "    return img\n",
    "train_datagen = ImageDataGenerator(\n",
    "        shear_range=0.2,\n",
    "        zoom_range=0.2,\n",
    "        vertical_flip=True,\n",
    "        rotation_range=35.,\n",
    "        fill_mode='reflect', \n",
    "        width_shift_range = 0.2, \n",
    "        height_shift_range = 0.2,\n",
    "        brightness_range=(0.3, 1.3),\n",
    "        preprocessing_function=add_noise)\n",
    "\n",
    "train_generator = train_datagen.flow(Xtrain, ytrain, batch_size=bs)\n",
    "step_size_train=train_generator.n//train_generator.batch_size"
   ]
  },
  {
   "cell_type": "code",
   "execution_count": 7,
   "metadata": {},
   "outputs": [
    {
     "name": "stdout",
     "output_type": "stream",
     "text": [
      "Epoch 1/3\n",
      "162/162 [==============================] - 108s 472ms/step - loss: 0.8466 - acc: 0.9006\n",
      "Epoch 2/3\n",
      "162/162 [==============================] - 54s 332ms/step - loss: 0.7428 - acc: 0.9212\n",
      "Epoch 3/3\n",
      "162/162 [==============================] - 54s 332ms/step - loss: 0.6911 - acc: 0.9304\n",
      "INFO:tensorflow:Assets written to: ./densenet_models/model6\\assets\n"
     ]
    }
   ],
   "source": [
    "model6 = tf.keras.models.load_model(\"./densenet_models/model4\") # start from where we ended in step 5 (same weights)\n",
    "base_learning_rate = 0.00005\n",
    "model6.compile(optimizer=tf.keras.optimizers.Adam(learning_rate=base_learning_rate),loss='categorical_crossentropy', metrics = ['acc'])\n",
    "history=model6.fit(train_generator,steps_per_epoch = step_size_train,epochs =3,shuffle=True)\n",
    "model6.save(\"./densenet_models/model6\") #Save step 6 for potential reuse"
   ]
  },
  {
   "cell_type": "code",
   "execution_count": 3,
   "metadata": {},
   "outputs": [],
   "source": [
    "import tensorflow as tf\n",
    "from tensorflow.keras.models import Model\n",
    "from tensorflow.compat.v1 import ConfigProto\n",
    "from tensorflow.compat.v1 import InteractiveSession\n",
    "\n",
    "#from tensorflow import ConfigProto\n",
    "#from tensorflow import InteractiveSession\n",
    "config = ConfigProto()\n",
    "config.gpu_options.allow_growth = True\n",
    "session = InteractiveSession(config=config)"
   ]
  },
  {
   "cell_type": "code",
   "execution_count": 4,
   "metadata": {},
   "outputs": [
    {
     "name": "stdout",
     "output_type": "stream",
     "text": [
      "['/device:CPU:0']\n"
     ]
    }
   ],
   "source": [
    "from tensorflow.python.client import device_lib\n",
    "def get_available_devices():\n",
    "    local_device_protos = device_lib.list_local_devices()\n",
    "    return [x.name for x in local_device_protos]\n",
    "print(get_available_devices()) "
   ]
  },
  {
   "cell_type": "code",
   "execution_count": 5,
   "metadata": {},
   "outputs": [],
   "source": [
    "# YOUR CODE HERE\n",
    "# suffle data\n",
    "shuffler = np.random.permutation(len(X_train))\n",
    "X_train = X_train[shuffler]\n",
    "y_train = y_train[shuffler]\n",
    "\n",
    "y=tf.keras.utils.to_categorical(y_train)\n",
    "# validation data and training data\n",
    "Xval=X_train[0:2000]\n",
    "yval=y[0:2000]\n",
    "Xtrain=X_train[2000:]\n",
    "ytrain=y[2000:]\n"
   ]
  },
  {
   "cell_type": "code",
   "execution_count": 6,
   "metadata": {},
   "outputs": [],
   "source": [
    "#for future data augmentation\n",
    "from tensorflow.keras.preprocessing.image import ImageDataGenerator\n",
    "bs=64\n",
    "epc=13#not used\n"
   ]
  },
  {
   "cell_type": "markdown",
   "metadata": {},
   "source": [
    "# Step 3a:\n",
    "Concatenate both previous models"
   ]
  },
  {
   "cell_type": "code",
   "execution_count": 5,
   "metadata": {},
   "outputs": [],
   "source": [
    "# YOUR CODE HERE\n",
    "# suffle data\n",
    "shuffler = np.random.permutation(len(X_train))\n",
    "X_train = X_train[shuffler]\n",
    "y_train = y_train[shuffler]\n",
    "\n",
    "y=tf.keras.utils.to_categorical(y_train)\n",
    "# validation data and training data\n",
    "Xval=X_train[0:2000]#not used here, all labeled data is used for training \n",
    "yval=y[0:2000]#not used here, all labeled data is used for training\n",
    "Xtrain=X_train[2000:]#not used here, all labeled data is used for training\n",
    "ytrain=y[2000:]#not used here, all labeled data is used for training \n",
    "#Because we use such small number of epoch and very small learning rate, overfitting is less likely to happen"
   ]
  },
  {
   "cell_type": "code",
   "execution_count": 6,
   "metadata": {},
   "outputs": [],
   "source": [
    "#for future data augmentation\n",
    "from tensorflow.keras.preprocessing.image import ImageDataGenerator\n",
    "bs=64\n",
    "epc=13#not used\n"
   ]
  },
  {
   "cell_type": "code",
   "execution_count": 10,
   "metadata": {},
   "outputs": [],
   "source": [
    "res = tf.keras.models.load_model(\"./densenet_models/model6\")\n",
    "dense = tf.keras.models.load_model(\"model6\")\n"
   ]
  },
  {
   "cell_type": "code",
   "execution_count": 11,
   "metadata": {},
   "outputs": [
    {
     "data": {
      "text/plain": [
       "<tensorflow.python.keras.layers.core.Dense at 0x193f00fcc48>"
      ]
     },
     "execution_count": 11,
     "metadata": {},
     "output_type": "execute_result"
    }
   ],
   "source": [
    "res._layers.pop()#remove top layer\n",
    "dense._layers.pop()"
   ]
  },
  {
   "cell_type": "code",
   "execution_count": 20,
   "metadata": {},
   "outputs": [
    {
     "name": "stdout",
     "output_type": "stream",
     "text": [
      "Model: \"model_9\"\n",
      "_________________________________________________________________\n",
      "Layer (type)                 Output Shape              Param #   \n",
      "=================================================================\n",
      "input_2 (InputLayer)         [(None, 128, 128, 3)]     0         \n",
      "_________________________________________________________________\n",
      "tf.math.truediv (TFOpLambda) (None, 128, 128, 3)       0         \n",
      "_________________________________________________________________\n",
      "tf.nn.bias_add (TFOpLambda)  (None, 128, 128, 3)       0         \n",
      "_________________________________________________________________\n",
      "tf.math.truediv_1 (TFOpLambd (None, 128, 128, 3)       0         \n",
      "_________________________________________________________________\n",
      "densenet121 (Functional)     (None, None, None, 1024)  7037504   \n",
      "_________________________________________________________________\n",
      "global_average_pooling2d (Gl (None, 1024)              0         \n",
      "_________________________________________________________________\n",
      "dense (Dense)                (None, 1024)              1049600   \n",
      "_________________________________________________________________\n",
      "dropout (Dropout)            (None, 1024)              0         \n",
      "_________________________________________________________________\n",
      "dense_1 (Dense)              (None, 2048)              2099200   \n",
      "_________________________________________________________________\n",
      "dropout_1 (Dropout)          (None, 2048)              0         \n",
      "=================================================================\n",
      "Total params: 10,186,304\n",
      "Trainable params: 0\n",
      "Non-trainable params: 10,186,304\n",
      "_________________________________________________________________\n",
      "Model: \"model_10\"\n",
      "_________________________________________________________________\n",
      "Layer (type)                 Output Shape              Param #   \n",
      "=================================================================\n",
      "input_8 (InputLayer)         [(None, 128, 128, 3)]     0         \n",
      "_________________________________________________________________\n",
      "tf.math.truediv_5 (TFOpLambd (None, 128, 128, 3)       0         \n",
      "_________________________________________________________________\n",
      "tf.math.subtract_5 (TFOpLamb (None, 128, 128, 3)       0         \n",
      "_________________________________________________________________\n",
      "resnet50v2 (Functional)      (None, None, None, 2048)  23564800  \n",
      "_________________________________________________________________\n",
      "global_average_pooling2d_4 ( (None, 2048)              0         \n",
      "_________________________________________________________________\n",
      "dense_10 (Dense)             (None, 2048)              4196352   \n",
      "_________________________________________________________________\n",
      "dropout_4 (Dropout)          (None, 2048)              0         \n",
      "_________________________________________________________________\n",
      "dense_11 (Dense)             (None, 2048)              4196352   \n",
      "_________________________________________________________________\n",
      "dropout_5 (Dropout)          (None, 2048)              0         \n",
      "=================================================================\n",
      "Total params: 31,957,504\n",
      "Trainable params: 0\n",
      "Non-trainable params: 31,957,504\n",
      "_________________________________________________________________\n"
     ]
    }
   ],
   "source": [
    "from tensorflow.python.keras.layers import Dense, Flatten, GlobalAveragePooling2D,Dropout\n",
    "from tensorflow.keras import regularizers\n",
    "for layer in dense.layers:\n",
    "    layer.trainable=False\n",
    "for layer in res.layers:\n",
    "    layer.trainable=False\n",
    "res._name=\"res_kaggle\"\n",
    "dense._name=\"dense_kaggle\"\n",
    "\n",
    "r = Model(res.input, res.layers[-3].output)\n",
    "r.summary()\n",
    "d = Model(dense.input, dense.layers[-3].output)\n",
    "d.summary()\n",
    "r._name=\"resnet_50V2_trained\"\n",
    "d._name=\"densenet_121_trained\""
   ]
  },
  {
   "cell_type": "code",
   "execution_count": 21,
   "metadata": {},
   "outputs": [],
   "source": [
    "\n",
    "#input\n",
    "inputs = tf.keras.Input(shape=(128, 128, 3))\n",
    "x = r(inputs, training=False)\n",
    "y = d(inputs, training=False)\n",
    "combined =  tf.keras.layers.Concatenate()([x, y])\n",
    "z=Dense(2048,activation='relu',kernel_regularizer=regularizers.l1_l2(l1=1e-5, l2=1e-4),\n",
    "    bias_regularizer=regularizers.l2(1e-4))(combined)\n",
    "z=Dropout(0.2)(z)\n",
    "z=Dense(512,activation='relu',kernel_regularizer=regularizers.l1_l2(l1=1e-5, l2=1e-4),\n",
    "    bias_regularizer=regularizers.l2(1e-4))(z)\n",
    "z=Dense(256,activation='relu')(z)\n",
    "preds=Dense(5,activation='softmax')(z)\n",
    "\n",
    "model=Model(inputs=inputs,outputs=preds)"
   ]
  },
  {
   "cell_type": "code",
   "execution_count": 22,
   "metadata": {},
   "outputs": [
    {
     "name": "stdout",
     "output_type": "stream",
     "text": [
      "Model: \"model_11\"\n",
      "__________________________________________________________________________________________________\n",
      "Layer (type)                    Output Shape         Param #     Connected to                     \n",
      "==================================================================================================\n",
      "input_4 (InputLayer)            [(None, 128, 128, 3) 0                                            \n",
      "__________________________________________________________________________________________________\n",
      "resnet_50V2_trained (Functional (None, 2048)         10186304    input_4[0][0]                    \n",
      "__________________________________________________________________________________________________\n",
      "densenet_121_trained (Functiona (None, 2048)         31957504    input_4[0][0]                    \n",
      "__________________________________________________________________________________________________\n",
      "concatenate_3 (Concatenate)     (None, 4096)         0           resnet_50V2_trained[0][0]        \n",
      "                                                                 densenet_121_trained[0][0]       \n",
      "__________________________________________________________________________________________________\n",
      "dense_12 (Dense)                (None, 2048)         8390656     concatenate_3[0][0]              \n",
      "__________________________________________________________________________________________________\n",
      "dropout_3 (Dropout)             (None, 2048)         0           dense_12[0][0]                   \n",
      "__________________________________________________________________________________________________\n",
      "dense_13 (Dense)                (None, 512)          1049088     dropout_3[0][0]                  \n",
      "__________________________________________________________________________________________________\n",
      "dense_14 (Dense)                (None, 256)          131328      dense_13[0][0]                   \n",
      "__________________________________________________________________________________________________\n",
      "dense_15 (Dense)                (None, 5)            1285        dense_14[0][0]                   \n",
      "==================================================================================================\n",
      "Total params: 51,716,165\n",
      "Trainable params: 9,572,357\n",
      "Non-trainable params: 42,143,808\n",
      "__________________________________________________________________________________________________\n"
     ]
    }
   ],
   "source": [
    "base_learning_rate = 0.00005\n",
    "model.compile(optimizer=tf.keras.optimizers.Adam(learning_rate=base_learning_rate),loss='categorical_crossentropy', metrics = ['acc'])\n",
    "model.summary()"
   ]
  },
  {
   "cell_type": "code",
   "execution_count": 11,
   "metadata": {},
   "outputs": [
    {
     "name": "stdout",
     "output_type": "stream",
     "text": [
      "INFO:tensorflow:Assets written to: ./concat_models/model0\\assets\n"
     ]
    }
   ],
   "source": [
    "model.save(\"./concat_models/model0\")"
   ]
  },
  {
   "cell_type": "code",
   "execution_count": 24,
   "metadata": {},
   "outputs": [
    {
     "data": {
      "image/png": "[encoded data removed]",
      "text/plain": [
       "<IPython.core.display.Image object>"
      ]
     },
     "execution_count": 24,
     "metadata": {},
     "output_type": "execute_result"
    }
   ],
   "source": [
    "from tensorflow.keras.utils import plot_model\n",
    "import pydot\n",
    "plot_model(model, to_file='model.png',show_shapes=True)"
   ]
  },
  {
   "cell_type": "markdown",
   "metadata": {},
   "source": [
    "# Step 3b:\n",
    "transfer learning "
   ]
  },
  {
   "cell_type": "markdown",
   "metadata": {},
   "source": [
    "### If you run into memory issues, run the code below before importing tensorflow (training on cpu is slower)"
   ]
  },
  {
   "cell_type": "code",
   "execution_count": null,
   "metadata": {},
   "outputs": [],
   "source": [
    "import os\n",
    "os.environ[\"CUDA_VISIBLE_DEVICES\"] = \"-1\""
   ]
  },
  {
   "cell_type": "code",
   "execution_count": 7,
   "metadata": {},
   "outputs": [],
   "source": [
    "#Even more data augmentation\n",
    "model= tf.keras.models.load_model(\"./concat_models/model0\")"
   ]
  },
  {
   "cell_type": "code",
   "execution_count": 8,
   "metadata": {},
   "outputs": [
    {
     "name": "stdout",
     "output_type": "stream",
     "text": [
      "Model: \"model_2\"\n",
      "__________________________________________________________________________________________________\n",
      "Layer (type)                    Output Shape         Param #     Connected to                     \n",
      "==================================================================================================\n",
      "input_1 (InputLayer)            [(None, 128, 128, 3) 0                                            \n",
      "__________________________________________________________________________________________________\n",
      "model (Functional)              (None, 2048)         10186304    input_1[0][0]                    \n",
      "__________________________________________________________________________________________________\n",
      "model_1 (Functional)            (None, 2048)         31957504    input_1[0][0]                    \n",
      "__________________________________________________________________________________________________\n",
      "concatenate (Concatenate)       (None, 4096)         0           model[0][0]                      \n",
      "                                                                 model_1[0][0]                    \n",
      "__________________________________________________________________________________________________\n",
      "dense (Dense)                   (None, 2048)         8390656     concatenate[0][0]                \n",
      "__________________________________________________________________________________________________\n",
      "dropout (Dropout)               (None, 2048)         0           dense[0][0]                      \n",
      "__________________________________________________________________________________________________\n",
      "dense_1 (Dense)                 (None, 512)          1049088     dropout[0][0]                    \n",
      "__________________________________________________________________________________________________\n",
      "dense_2 (Dense)                 (None, 256)          131328      dense_1[0][0]                    \n",
      "__________________________________________________________________________________________________\n",
      "dense_3 (Dense)                 (None, 5)            1285        dense_2[0][0]                    \n",
      "==================================================================================================\n",
      "Total params: 51,716,165\n",
      "Trainable params: 51,587,077\n",
      "Non-trainable params: 129,088\n",
      "__________________________________________________________________________________________________\n"
     ]
    }
   ],
   "source": [
    "from tensorflow.keras.preprocessing.image import ImageDataGenerator\n",
    "bs=256\n",
    "train_datagen = ImageDataGenerator(\n",
    "        shear_range=0.1,\n",
    "        zoom_range=0.1,\n",
    "        vertical_flip=True,\n",
    "        rotation_range=10.,\n",
    "        fill_mode='reflect', \n",
    "        width_shift_range = 0.1, \n",
    "        height_shift_range = 0.1)\n",
    "\n",
    "train_generator = train_datagen.flow(X_train, y, batch_size=bs)\n",
    "step_size_train=train_generator.n//train_generator.batch_size\n",
    "\n",
    "base_learning_rate = 0.0001\n",
    "model.compile(optimizer=tf.keras.optimizers.Adam(learning_rate=base_learning_rate),loss='categorical_crossentropy', metrics = ['acc'])\n",
    "model.summary()"
   ]
  },
  {
   "cell_type": "markdown",
   "metadata": {},
   "source": [
    "### Training was manually interrupted hence the error message"
   ]
  },
  {
   "cell_type": "code",
   "execution_count": 9,
   "metadata": {},
   "outputs": [
    {
     "name": "stdout",
     "output_type": "stream",
     "text": [
      "Epoch 1/2\n",
      "58/58 [==============================] - 2211s 38s/step - loss: 2.6109 - acc: 0.9012\n",
      "Epoch 2/2\n",
      " 5/58 [=>............................] - ETA: 34:07 - loss: 2.1752 - acc: 0.9851"
     ]
    },
    {
     "ename": "KeyboardInterrupt",
     "evalue": "",
     "output_type": "error",
     "traceback": [
      "\u001b[1;31m---------------------------------------------------------------------------\u001b[0m",
      "\u001b[1;31mKeyboardInterrupt\u001b[0m                         Traceback (most recent call last)",
      "\u001b[1;32m~\\AppData\\Local\\Temp/ipykernel_9996/3886741090.py\u001b[0m in \u001b[0;36m<module>\u001b[1;34m\u001b[0m\n\u001b[0;32m      3\u001b[0m history=model.fit(train_generator,\n\u001b[0;32m      4\u001b[0m                    \u001b[0msteps_per_epoch\u001b[0m \u001b[1;33m=\u001b[0m \u001b[0mstep_size_train\u001b[0m\u001b[1;33m,\u001b[0m\u001b[1;33m\u001b[0m\u001b[1;33m\u001b[0m\u001b[0m\n\u001b[1;32m----> 5\u001b[1;33m                    epochs = 2,shuffle=True)\n\u001b[0m\u001b[0;32m      6\u001b[0m \u001b[0mmodel\u001b[0m\u001b[1;33m.\u001b[0m\u001b[0msave\u001b[0m\u001b[1;33m(\u001b[0m\u001b[1;34m\"./concat_models/model_aug\"\u001b[0m\u001b[1;33m)\u001b[0m \u001b[1;31m#Save step 3 for potential reuse\u001b[0m\u001b[1;33m\u001b[0m\u001b[1;33m\u001b[0m\u001b[0m\n",
      "\u001b[1;32m~\\anaconda3\\envs\\envTF24\\lib\\site-packages\\tensorflow\\python\\keras\\engine\\training.py\u001b[0m in \u001b[0;36mfit\u001b[1;34m(self, x, y, batch_size, epochs, verbose, callbacks, validation_split, validation_data, shuffle, class_weight, sample_weight, initial_epoch, steps_per_epoch, validation_steps, validation_batch_size, validation_freq, max_queue_size, workers, use_multiprocessing)\u001b[0m\n\u001b[0;32m   1098\u001b[0m                 _r=1):\n\u001b[0;32m   1099\u001b[0m               \u001b[0mcallbacks\u001b[0m\u001b[1;33m.\u001b[0m\u001b[0mon_train_batch_begin\u001b[0m\u001b[1;33m(\u001b[0m\u001b[0mstep\u001b[0m\u001b[1;33m)\u001b[0m\u001b[1;33m\u001b[0m\u001b[1;33m\u001b[0m\u001b[0m\n\u001b[1;32m-> 1100\u001b[1;33m               \u001b[0mtmp_logs\u001b[0m \u001b[1;33m=\u001b[0m \u001b[0mself\u001b[0m\u001b[1;33m.\u001b[0m\u001b[0mtrain_function\u001b[0m\u001b[1;33m(\u001b[0m\u001b[0miterator\u001b[0m\u001b[1;33m)\u001b[0m\u001b[1;33m\u001b[0m\u001b[1;33m\u001b[0m\u001b[0m\n\u001b[0m\u001b[0;32m   1101\u001b[0m               \u001b[1;32mif\u001b[0m \u001b[0mdata_handler\u001b[0m\u001b[1;33m.\u001b[0m\u001b[0mshould_sync\u001b[0m\u001b[1;33m:\u001b[0m\u001b[1;33m\u001b[0m\u001b[1;33m\u001b[0m\u001b[0m\n\u001b[0;32m   1102\u001b[0m                 \u001b[0mcontext\u001b[0m\u001b[1;33m.\u001b[0m\u001b[0masync_wait\u001b[0m\u001b[1;33m(\u001b[0m\u001b[1;33m)\u001b[0m\u001b[1;33m\u001b[0m\u001b[1;33m\u001b[0m\u001b[0m\n",
      "\u001b[1;32m~\\anaconda3\\envs\\envTF24\\lib\\site-packages\\tensorflow\\python\\eager\\def_function.py\u001b[0m in \u001b[0;36m__call__\u001b[1;34m(self, *args, **kwds)\u001b[0m\n\u001b[0;32m    826\u001b[0m     \u001b[0mtracing_count\u001b[0m \u001b[1;33m=\u001b[0m \u001b[0mself\u001b[0m\u001b[1;33m.\u001b[0m\u001b[0mexperimental_get_tracing_count\u001b[0m\u001b[1;33m(\u001b[0m\u001b[1;33m)\u001b[0m\u001b[1;33m\u001b[0m\u001b[1;33m\u001b[0m\u001b[0m\n\u001b[0;32m    827\u001b[0m     \u001b[1;32mwith\u001b[0m \u001b[0mtrace\u001b[0m\u001b[1;33m.\u001b[0m\u001b[0mTrace\u001b[0m\u001b[1;33m(\u001b[0m\u001b[0mself\u001b[0m\u001b[1;33m.\u001b[0m\u001b[0m_name\u001b[0m\u001b[1;33m)\u001b[0m \u001b[1;32mas\u001b[0m \u001b[0mtm\u001b[0m\u001b[1;33m:\u001b[0m\u001b[1;33m\u001b[0m\u001b[1;33m\u001b[0m\u001b[0m\n\u001b[1;32m--> 828\u001b[1;33m       \u001b[0mresult\u001b[0m \u001b[1;33m=\u001b[0m \u001b[0mself\u001b[0m\u001b[1;33m.\u001b[0m\u001b[0m_call\u001b[0m\u001b[1;33m(\u001b[0m\u001b[1;33m*\u001b[0m\u001b[0margs\u001b[0m\u001b[1;33m,\u001b[0m \u001b[1;33m**\u001b[0m\u001b[0mkwds\u001b[0m\u001b[1;33m)\u001b[0m\u001b[1;33m\u001b[0m\u001b[1;33m\u001b[0m\u001b[0m\n\u001b[0m\u001b[0;32m    829\u001b[0m       \u001b[0mcompiler\u001b[0m \u001b[1;33m=\u001b[0m \u001b[1;34m\"xla\"\u001b[0m \u001b[1;32mif\u001b[0m \u001b[0mself\u001b[0m\u001b[1;33m.\u001b[0m\u001b[0m_experimental_compile\u001b[0m \u001b[1;32melse\u001b[0m \u001b[1;34m\"nonXla\"\u001b[0m\u001b[1;33m\u001b[0m\u001b[1;33m\u001b[0m\u001b[0m\n\u001b[0;32m    830\u001b[0m       \u001b[0mnew_tracing_count\u001b[0m \u001b[1;33m=\u001b[0m \u001b[0mself\u001b[0m\u001b[1;33m.\u001b[0m\u001b[0mexperimental_get_tracing_count\u001b[0m\u001b[1;33m(\u001b[0m\u001b[1;33m)\u001b[0m\u001b[1;33m\u001b[0m\u001b[1;33m\u001b[0m\u001b[0m\n",
      "\u001b[1;32m~\\anaconda3\\envs\\envTF24\\lib\\site-packages\\tensorflow\\python\\eager\\def_function.py\u001b[0m in \u001b[0;36m_call\u001b[1;34m(self, *args, **kwds)\u001b[0m\n\u001b[0;32m    853\u001b[0m       \u001b[1;31m# In this case we have created variables on the first call, so we run the\u001b[0m\u001b[1;33m\u001b[0m\u001b[1;33m\u001b[0m\u001b[1;33m\u001b[0m\u001b[0m\n\u001b[0;32m    854\u001b[0m       \u001b[1;31m# defunned version which is guaranteed to never create variables.\u001b[0m\u001b[1;33m\u001b[0m\u001b[1;33m\u001b[0m\u001b[1;33m\u001b[0m\u001b[0m\n\u001b[1;32m--> 855\u001b[1;33m       \u001b[1;32mreturn\u001b[0m \u001b[0mself\u001b[0m\u001b[1;33m.\u001b[0m\u001b[0m_stateless_fn\u001b[0m\u001b[1;33m(\u001b[0m\u001b[1;33m*\u001b[0m\u001b[0margs\u001b[0m\u001b[1;33m,\u001b[0m \u001b[1;33m**\u001b[0m\u001b[0mkwds\u001b[0m\u001b[1;33m)\u001b[0m  \u001b[1;31m# pylint: disable=not-callable\u001b[0m\u001b[1;33m\u001b[0m\u001b[1;33m\u001b[0m\u001b[0m\n\u001b[0m\u001b[0;32m    856\u001b[0m     \u001b[1;32melif\u001b[0m \u001b[0mself\u001b[0m\u001b[1;33m.\u001b[0m\u001b[0m_stateful_fn\u001b[0m \u001b[1;32mis\u001b[0m \u001b[1;32mnot\u001b[0m \u001b[1;32mNone\u001b[0m\u001b[1;33m:\u001b[0m\u001b[1;33m\u001b[0m\u001b[1;33m\u001b[0m\u001b[0m\n\u001b[0;32m    857\u001b[0m       \u001b[1;31m# Release the lock early so that multiple threads can perform the call\u001b[0m\u001b[1;33m\u001b[0m\u001b[1;33m\u001b[0m\u001b[1;33m\u001b[0m\u001b[0m\n",
      "\u001b[1;32m~\\anaconda3\\envs\\envTF24\\lib\\site-packages\\tensorflow\\python\\eager\\function.py\u001b[0m in \u001b[0;36m__call__\u001b[1;34m(self, *args, **kwargs)\u001b[0m\n\u001b[0;32m   2941\u001b[0m        filtered_flat_args) = self._maybe_define_function(args, kwargs)\n\u001b[0;32m   2942\u001b[0m     return graph_function._call_flat(\n\u001b[1;32m-> 2943\u001b[1;33m         filtered_flat_args, captured_inputs=graph_function.captured_inputs)  # pylint: disable=protected-access\n\u001b[0m\u001b[0;32m   2944\u001b[0m \u001b[1;33m\u001b[0m\u001b[0m\n\u001b[0;32m   2945\u001b[0m   \u001b[1;33m@\u001b[0m\u001b[0mproperty\u001b[0m\u001b[1;33m\u001b[0m\u001b[1;33m\u001b[0m\u001b[0m\n",
      "\u001b[1;32m~\\anaconda3\\envs\\envTF24\\lib\\site-packages\\tensorflow\\python\\eager\\function.py\u001b[0m in \u001b[0;36m_call_flat\u001b[1;34m(self, args, captured_inputs, cancellation_manager)\u001b[0m\n\u001b[0;32m   1917\u001b[0m       \u001b[1;31m# No tape is watching; skip to running the function.\u001b[0m\u001b[1;33m\u001b[0m\u001b[1;33m\u001b[0m\u001b[1;33m\u001b[0m\u001b[0m\n\u001b[0;32m   1918\u001b[0m       return self._build_call_outputs(self._inference_function.call(\n\u001b[1;32m-> 1919\u001b[1;33m           ctx, args, cancellation_manager=cancellation_manager))\n\u001b[0m\u001b[0;32m   1920\u001b[0m     forward_backward = self._select_forward_and_backward_functions(\n\u001b[0;32m   1921\u001b[0m         \u001b[0margs\u001b[0m\u001b[1;33m,\u001b[0m\u001b[1;33m\u001b[0m\u001b[1;33m\u001b[0m\u001b[0m\n",
      "\u001b[1;32m~\\anaconda3\\envs\\envTF24\\lib\\site-packages\\tensorflow\\python\\eager\\function.py\u001b[0m in \u001b[0;36mcall\u001b[1;34m(self, ctx, args, cancellation_manager)\u001b[0m\n\u001b[0;32m    558\u001b[0m               \u001b[0minputs\u001b[0m\u001b[1;33m=\u001b[0m\u001b[0margs\u001b[0m\u001b[1;33m,\u001b[0m\u001b[1;33m\u001b[0m\u001b[1;33m\u001b[0m\u001b[0m\n\u001b[0;32m    559\u001b[0m               \u001b[0mattrs\u001b[0m\u001b[1;33m=\u001b[0m\u001b[0mattrs\u001b[0m\u001b[1;33m,\u001b[0m\u001b[1;33m\u001b[0m\u001b[1;33m\u001b[0m\u001b[0m\n\u001b[1;32m--> 560\u001b[1;33m               ctx=ctx)\n\u001b[0m\u001b[0;32m    561\u001b[0m         \u001b[1;32melse\u001b[0m\u001b[1;33m:\u001b[0m\u001b[1;33m\u001b[0m\u001b[1;33m\u001b[0m\u001b[0m\n\u001b[0;32m    562\u001b[0m           outputs = execute.execute_with_cancellation(\n",
      "\u001b[1;32m~\\anaconda3\\envs\\envTF24\\lib\\site-packages\\tensorflow\\python\\eager\\execute.py\u001b[0m in \u001b[0;36mquick_execute\u001b[1;34m(op_name, num_outputs, inputs, attrs, ctx, name)\u001b[0m\n\u001b[0;32m     58\u001b[0m     \u001b[0mctx\u001b[0m\u001b[1;33m.\u001b[0m\u001b[0mensure_initialized\u001b[0m\u001b[1;33m(\u001b[0m\u001b[1;33m)\u001b[0m\u001b[1;33m\u001b[0m\u001b[1;33m\u001b[0m\u001b[0m\n\u001b[0;32m     59\u001b[0m     tensors = pywrap_tfe.TFE_Py_Execute(ctx._handle, device_name, op_name,\n\u001b[1;32m---> 60\u001b[1;33m                                         inputs, attrs, num_outputs)\n\u001b[0m\u001b[0;32m     61\u001b[0m   \u001b[1;32mexcept\u001b[0m \u001b[0mcore\u001b[0m\u001b[1;33m.\u001b[0m\u001b[0m_NotOkStatusException\u001b[0m \u001b[1;32mas\u001b[0m \u001b[0me\u001b[0m\u001b[1;33m:\u001b[0m\u001b[1;33m\u001b[0m\u001b[1;33m\u001b[0m\u001b[0m\n\u001b[0;32m     62\u001b[0m     \u001b[1;32mif\u001b[0m \u001b[0mname\u001b[0m \u001b[1;32mis\u001b[0m \u001b[1;32mnot\u001b[0m \u001b[1;32mNone\u001b[0m\u001b[1;33m:\u001b[0m\u001b[1;33m\u001b[0m\u001b[1;33m\u001b[0m\u001b[0m\n",
      "\u001b[1;31mKeyboardInterrupt\u001b[0m: "
     ]
    }
   ],
   "source": [
    "#step3\n",
    "# start from where we ended in step 2 (same weights)\n",
    "history=model.fit(train_generator,\n",
    "                   steps_per_epoch = step_size_train,\n",
    "                   epochs = 2,shuffle=True)\n",
    "model.save(\"./concat_models/model_aug\") #Save step 3 for potential reuse"
   ]
  },
  {
   "cell_type": "code",
   "execution_count": 10,
   "metadata": {},
   "outputs": [
    {
     "name": "stdout",
     "output_type": "stream",
     "text": [
      "INFO:tensorflow:Assets written to: ./concat_models/model_aug\\assets\n"
     ]
    }
   ],
   "source": [
    "model.save(\"./concat_models/model_aug\")"
   ]
  },
  {
   "cell_type": "code",
   "execution_count": 7,
   "metadata": {},
   "outputs": [
    {
     "name": "stdout",
     "output_type": "stream",
     "text": [
      "Model: \"model_2\"\n",
      "__________________________________________________________________________________________________\n",
      "Layer (type)                    Output Shape         Param #     Connected to                     \n",
      "==================================================================================================\n",
      "input_1 (InputLayer)            [(None, 128, 128, 3) 0                                            \n",
      "__________________________________________________________________________________________________\n",
      "model (Functional)              (None, 2048)         10186304    input_1[0][0]                    \n",
      "__________________________________________________________________________________________________\n",
      "model_1 (Functional)            (None, 2048)         31957504    input_1[0][0]                    \n",
      "__________________________________________________________________________________________________\n",
      "concatenate (Concatenate)       (None, 4096)         0           model[0][0]                      \n",
      "                                                                 model_1[0][0]                    \n",
      "__________________________________________________________________________________________________\n",
      "dense (Dense)                   (None, 2048)         8390656     concatenate[0][0]                \n",
      "__________________________________________________________________________________________________\n",
      "dropout (Dropout)               (None, 2048)         0           dense[0][0]                      \n",
      "__________________________________________________________________________________________________\n",
      "dense_1 (Dense)                 (None, 512)          1049088     dropout[0][0]                    \n",
      "__________________________________________________________________________________________________\n",
      "dense_2 (Dense)                 (None, 256)          131328      dense_1[0][0]                    \n",
      "__________________________________________________________________________________________________\n",
      "dense_3 (Dense)                 (None, 5)            1285        dense_2[0][0]                    \n",
      "==================================================================================================\n",
      "Total params: 51,716,165\n",
      "Trainable params: 51,587,077\n",
      "Non-trainable params: 129,088\n",
      "__________________________________________________________________________________________________\n"
     ]
    }
   ],
   "source": [
    "#Even more data augmentation\n",
    "model= tf.keras.models.load_model(\"./concat_models/model_aug\")\n",
    "bs=512\n",
    "def add_noise(img):\n",
    "    '''Add random noise to an image'''\n",
    "    p=np.random.uniform()\n",
    "    if p>0.5:\n",
    "        noise = np.random.normal(0, 5, img.shape)\n",
    "        img += noise\n",
    "        np.clip(img, 0., 255.)\n",
    "    return img\n",
    "train_datagen = ImageDataGenerator(\n",
    "        shear_range=0.3,\n",
    "        zoom_range=0.3,\n",
    "        vertical_flip=True,\n",
    "        rotation_range=35.,\n",
    "        fill_mode='reflect', \n",
    "        width_shift_range = 0.15, \n",
    "        height_shift_range = 0.15,\n",
    "        brightness_range=(0.3, 1.4),\n",
    "        preprocessing_function=add_noise)\n",
    "\n",
    "train_generator = train_datagen.flow(X_train, y, batch_size=bs)\n",
    "step_size_train=train_generator.n//train_generator.batch_size\n",
    "\n",
    "base_learning_rate = 0.00005\n",
    "model.compile(optimizer=tf.keras.optimizers.Adam(learning_rate=base_learning_rate),loss='categorical_crossentropy', metrics = ['acc'])\n",
    "model.summary()"
   ]
  },
  {
   "cell_type": "code",
   "execution_count": 8,
   "metadata": {},
   "outputs": [
    {
     "name": "stdout",
     "output_type": "stream",
     "text": [
      "29/29 [==============================] - 2688s 92s/step - loss: 2.2471 - acc: 0.9441 - val_loss: 2.0447 - val_acc: 0.9915\n",
      "INFO:tensorflow:Assets written to: ./concat_models/model_final\\assets\n"
     ]
    }
   ],
   "source": [
    "#VALIDATION ACCURACY IS MEANINGLESS HERE, I forgot to remove it\n",
    "#Because we use such small number of epoch and very small learning rate, overfitting is less likely to happen\n",
    "history=model.fit(train_generator,\n",
    "                   steps_per_epoch = step_size_train,\n",
    "                   epochs = 1,\n",
    "                   validation_data=(Xval, yval),shuffle=True)\n",
    "model.save(\"./concat_models/model_final\") #Save step 3 for potential reuse"
   ]
  },
  {
   "cell_type": "markdown",
   "metadata": {},
   "source": [
    "### Training was manually interrupted hence the error message"
   ]
  },
  {
   "cell_type": "code",
   "execution_count": 9,
   "metadata": {},
   "outputs": [
    {
     "name": "stdout",
     "output_type": "stream",
     "text": [
      "Model: \"model_2\"\n",
      "__________________________________________________________________________________________________\n",
      "Layer (type)                    Output Shape         Param #     Connected to                     \n",
      "==================================================================================================\n",
      "input_1 (InputLayer)            [(None, 128, 128, 3) 0                                            \n",
      "__________________________________________________________________________________________________\n",
      "model (Functional)              (None, 2048)         10186304    input_1[0][0]                    \n",
      "__________________________________________________________________________________________________\n",
      "model_1 (Functional)            (None, 2048)         31957504    input_1[0][0]                    \n",
      "__________________________________________________________________________________________________\n",
      "concatenate (Concatenate)       (None, 4096)         0           model[0][0]                      \n",
      "                                                                 model_1[0][0]                    \n",
      "__________________________________________________________________________________________________\n",
      "dense (Dense)                   (None, 2048)         8390656     concatenate[0][0]                \n",
      "__________________________________________________________________________________________________\n",
      "dropout (Dropout)               (None, 2048)         0           dense[0][0]                      \n",
      "__________________________________________________________________________________________________\n",
      "dense_1 (Dense)                 (None, 512)          1049088     dropout[0][0]                    \n",
      "__________________________________________________________________________________________________\n",
      "dense_2 (Dense)                 (None, 256)          131328      dense_1[0][0]                    \n",
      "__________________________________________________________________________________________________\n",
      "dense_3 (Dense)                 (None, 5)            1285        dense_2[0][0]                    \n",
      "==================================================================================================\n",
      "Total params: 51,716,165\n",
      "Trainable params: 51,587,077\n",
      "Non-trainable params: 129,088\n",
      "__________________________________________________________________________________________________\n",
      "14/25 [===============>..............] - ETA: 20:53 - loss: 2.1104 - acc: 0.9607"
     ]
    },
    {
     "ename": "KeyboardInterrupt",
     "evalue": "",
     "output_type": "error",
     "traceback": [
      "\u001b[1;31m---------------------------------------------------------------------------\u001b[0m",
      "\u001b[1;31mKeyboardInterrupt\u001b[0m                         Traceback (most recent call last)",
      "\u001b[1;32m~\\AppData\\Local\\Temp/ipykernel_43180/3060432149.py\u001b[0m in \u001b[0;36m<module>\u001b[1;34m\u001b[0m\n\u001b[0;32m     35\u001b[0m                    \u001b[0msteps_per_epoch\u001b[0m \u001b[1;33m=\u001b[0m \u001b[0mstep_size_train\u001b[0m\u001b[1;33m,\u001b[0m\u001b[1;33m\u001b[0m\u001b[1;33m\u001b[0m\u001b[0m\n\u001b[0;32m     36\u001b[0m                    \u001b[0mepochs\u001b[0m \u001b[1;33m=\u001b[0m \u001b[1;36m1\u001b[0m\u001b[1;33m,\u001b[0m\u001b[1;33m\u001b[0m\u001b[1;33m\u001b[0m\u001b[0m\n\u001b[1;32m---> 37\u001b[1;33m                    validation_data=(Xval, yval),shuffle=True)\n\u001b[0m\u001b[0;32m     38\u001b[0m \u001b[0mmodel\u001b[0m\u001b[1;33m.\u001b[0m\u001b[0msave\u001b[0m\u001b[1;33m(\u001b[0m\u001b[1;34m\"./concat_models/model_final2\"\u001b[0m\u001b[1;33m)\u001b[0m \u001b[1;31m#Save step 3 for potential reuse\u001b[0m\u001b[1;33m\u001b[0m\u001b[1;33m\u001b[0m\u001b[0m\n",
      "\u001b[1;32m~\\anaconda3\\envs\\envTF24\\lib\\site-packages\\tensorflow\\python\\keras\\engine\\training.py\u001b[0m in \u001b[0;36mfit\u001b[1;34m(self, x, y, batch_size, epochs, verbose, callbacks, validation_split, validation_data, shuffle, class_weight, sample_weight, initial_epoch, steps_per_epoch, validation_steps, validation_batch_size, validation_freq, max_queue_size, workers, use_multiprocessing)\u001b[0m\n\u001b[0;32m   1098\u001b[0m                 _r=1):\n\u001b[0;32m   1099\u001b[0m               \u001b[0mcallbacks\u001b[0m\u001b[1;33m.\u001b[0m\u001b[0mon_train_batch_begin\u001b[0m\u001b[1;33m(\u001b[0m\u001b[0mstep\u001b[0m\u001b[1;33m)\u001b[0m\u001b[1;33m\u001b[0m\u001b[1;33m\u001b[0m\u001b[0m\n\u001b[1;32m-> 1100\u001b[1;33m               \u001b[0mtmp_logs\u001b[0m \u001b[1;33m=\u001b[0m \u001b[0mself\u001b[0m\u001b[1;33m.\u001b[0m\u001b[0mtrain_function\u001b[0m\u001b[1;33m(\u001b[0m\u001b[0miterator\u001b[0m\u001b[1;33m)\u001b[0m\u001b[1;33m\u001b[0m\u001b[1;33m\u001b[0m\u001b[0m\n\u001b[0m\u001b[0;32m   1101\u001b[0m               \u001b[1;32mif\u001b[0m \u001b[0mdata_handler\u001b[0m\u001b[1;33m.\u001b[0m\u001b[0mshould_sync\u001b[0m\u001b[1;33m:\u001b[0m\u001b[1;33m\u001b[0m\u001b[1;33m\u001b[0m\u001b[0m\n\u001b[0;32m   1102\u001b[0m                 \u001b[0mcontext\u001b[0m\u001b[1;33m.\u001b[0m\u001b[0masync_wait\u001b[0m\u001b[1;33m(\u001b[0m\u001b[1;33m)\u001b[0m\u001b[1;33m\u001b[0m\u001b[1;33m\u001b[0m\u001b[0m\n",
      "\u001b[1;32m~\\anaconda3\\envs\\envTF24\\lib\\site-packages\\tensorflow\\python\\eager\\def_function.py\u001b[0m in \u001b[0;36m__call__\u001b[1;34m(self, *args, **kwds)\u001b[0m\n\u001b[0;32m    826\u001b[0m     \u001b[0mtracing_count\u001b[0m \u001b[1;33m=\u001b[0m \u001b[0mself\u001b[0m\u001b[1;33m.\u001b[0m\u001b[0mexperimental_get_tracing_count\u001b[0m\u001b[1;33m(\u001b[0m\u001b[1;33m)\u001b[0m\u001b[1;33m\u001b[0m\u001b[1;33m\u001b[0m\u001b[0m\n\u001b[0;32m    827\u001b[0m     \u001b[1;32mwith\u001b[0m \u001b[0mtrace\u001b[0m\u001b[1;33m.\u001b[0m\u001b[0mTrace\u001b[0m\u001b[1;33m(\u001b[0m\u001b[0mself\u001b[0m\u001b[1;33m.\u001b[0m\u001b[0m_name\u001b[0m\u001b[1;33m)\u001b[0m \u001b[1;32mas\u001b[0m \u001b[0mtm\u001b[0m\u001b[1;33m:\u001b[0m\u001b[1;33m\u001b[0m\u001b[1;33m\u001b[0m\u001b[0m\n\u001b[1;32m--> 828\u001b[1;33m       \u001b[0mresult\u001b[0m \u001b[1;33m=\u001b[0m \u001b[0mself\u001b[0m\u001b[1;33m.\u001b[0m\u001b[0m_call\u001b[0m\u001b[1;33m(\u001b[0m\u001b[1;33m*\u001b[0m\u001b[0margs\u001b[0m\u001b[1;33m,\u001b[0m \u001b[1;33m**\u001b[0m\u001b[0mkwds\u001b[0m\u001b[1;33m)\u001b[0m\u001b[1;33m\u001b[0m\u001b[1;33m\u001b[0m\u001b[0m\n\u001b[0m\u001b[0;32m    829\u001b[0m       \u001b[0mcompiler\u001b[0m \u001b[1;33m=\u001b[0m \u001b[1;34m\"xla\"\u001b[0m \u001b[1;32mif\u001b[0m \u001b[0mself\u001b[0m\u001b[1;33m.\u001b[0m\u001b[0m_experimental_compile\u001b[0m \u001b[1;32melse\u001b[0m \u001b[1;34m\"nonXla\"\u001b[0m\u001b[1;33m\u001b[0m\u001b[1;33m\u001b[0m\u001b[0m\n\u001b[0;32m    830\u001b[0m       \u001b[0mnew_tracing_count\u001b[0m \u001b[1;33m=\u001b[0m \u001b[0mself\u001b[0m\u001b[1;33m.\u001b[0m\u001b[0mexperimental_get_tracing_count\u001b[0m\u001b[1;33m(\u001b[0m\u001b[1;33m)\u001b[0m\u001b[1;33m\u001b[0m\u001b[1;33m\u001b[0m\u001b[0m\n",
      "\u001b[1;32m~\\anaconda3\\envs\\envTF24\\lib\\site-packages\\tensorflow\\python\\eager\\def_function.py\u001b[0m in \u001b[0;36m_call\u001b[1;34m(self, *args, **kwds)\u001b[0m\n\u001b[0;32m    853\u001b[0m       \u001b[1;31m# In this case we have created variables on the first call, so we run the\u001b[0m\u001b[1;33m\u001b[0m\u001b[1;33m\u001b[0m\u001b[1;33m\u001b[0m\u001b[0m\n\u001b[0;32m    854\u001b[0m       \u001b[1;31m# defunned version which is guaranteed to never create variables.\u001b[0m\u001b[1;33m\u001b[0m\u001b[1;33m\u001b[0m\u001b[1;33m\u001b[0m\u001b[0m\n\u001b[1;32m--> 855\u001b[1;33m       \u001b[1;32mreturn\u001b[0m \u001b[0mself\u001b[0m\u001b[1;33m.\u001b[0m\u001b[0m_stateless_fn\u001b[0m\u001b[1;33m(\u001b[0m\u001b[1;33m*\u001b[0m\u001b[0margs\u001b[0m\u001b[1;33m,\u001b[0m \u001b[1;33m**\u001b[0m\u001b[0mkwds\u001b[0m\u001b[1;33m)\u001b[0m  \u001b[1;31m# pylint: disable=not-callable\u001b[0m\u001b[1;33m\u001b[0m\u001b[1;33m\u001b[0m\u001b[0m\n\u001b[0m\u001b[0;32m    856\u001b[0m     \u001b[1;32melif\u001b[0m \u001b[0mself\u001b[0m\u001b[1;33m.\u001b[0m\u001b[0m_stateful_fn\u001b[0m \u001b[1;32mis\u001b[0m \u001b[1;32mnot\u001b[0m \u001b[1;32mNone\u001b[0m\u001b[1;33m:\u001b[0m\u001b[1;33m\u001b[0m\u001b[1;33m\u001b[0m\u001b[0m\n\u001b[0;32m    857\u001b[0m       \u001b[1;31m# Release the lock early so that multiple threads can perform the call\u001b[0m\u001b[1;33m\u001b[0m\u001b[1;33m\u001b[0m\u001b[1;33m\u001b[0m\u001b[0m\n",
      "\u001b[1;32m~\\anaconda3\\envs\\envTF24\\lib\\site-packages\\tensorflow\\python\\eager\\function.py\u001b[0m in \u001b[0;36m__call__\u001b[1;34m(self, *args, **kwargs)\u001b[0m\n\u001b[0;32m   2941\u001b[0m        filtered_flat_args) = self._maybe_define_function(args, kwargs)\n\u001b[0;32m   2942\u001b[0m     return graph_function._call_flat(\n\u001b[1;32m-> 2943\u001b[1;33m         filtered_flat_args, captured_inputs=graph_function.captured_inputs)  # pylint: disable=protected-access\n\u001b[0m\u001b[0;32m   2944\u001b[0m \u001b[1;33m\u001b[0m\u001b[0m\n\u001b[0;32m   2945\u001b[0m   \u001b[1;33m@\u001b[0m\u001b[0mproperty\u001b[0m\u001b[1;33m\u001b[0m\u001b[1;33m\u001b[0m\u001b[0m\n",
      "\u001b[1;32m~\\anaconda3\\envs\\envTF24\\lib\\site-packages\\tensorflow\\python\\eager\\function.py\u001b[0m in \u001b[0;36m_call_flat\u001b[1;34m(self, args, captured_inputs, cancellation_manager)\u001b[0m\n\u001b[0;32m   1917\u001b[0m       \u001b[1;31m# No tape is watching; skip to running the function.\u001b[0m\u001b[1;33m\u001b[0m\u001b[1;33m\u001b[0m\u001b[1;33m\u001b[0m\u001b[0m\n\u001b[0;32m   1918\u001b[0m       return self._build_call_outputs(self._inference_function.call(\n\u001b[1;32m-> 1919\u001b[1;33m           ctx, args, cancellation_manager=cancellation_manager))\n\u001b[0m\u001b[0;32m   1920\u001b[0m     forward_backward = self._select_forward_and_backward_functions(\n\u001b[0;32m   1921\u001b[0m         \u001b[0margs\u001b[0m\u001b[1;33m,\u001b[0m\u001b[1;33m\u001b[0m\u001b[1;33m\u001b[0m\u001b[0m\n",
      "\u001b[1;32m~\\anaconda3\\envs\\envTF24\\lib\\site-packages\\tensorflow\\python\\eager\\function.py\u001b[0m in \u001b[0;36mcall\u001b[1;34m(self, ctx, args, cancellation_manager)\u001b[0m\n\u001b[0;32m    558\u001b[0m               \u001b[0minputs\u001b[0m\u001b[1;33m=\u001b[0m\u001b[0margs\u001b[0m\u001b[1;33m,\u001b[0m\u001b[1;33m\u001b[0m\u001b[1;33m\u001b[0m\u001b[0m\n\u001b[0;32m    559\u001b[0m               \u001b[0mattrs\u001b[0m\u001b[1;33m=\u001b[0m\u001b[0mattrs\u001b[0m\u001b[1;33m,\u001b[0m\u001b[1;33m\u001b[0m\u001b[1;33m\u001b[0m\u001b[0m\n\u001b[1;32m--> 560\u001b[1;33m               ctx=ctx)\n\u001b[0m\u001b[0;32m    561\u001b[0m         \u001b[1;32melse\u001b[0m\u001b[1;33m:\u001b[0m\u001b[1;33m\u001b[0m\u001b[1;33m\u001b[0m\u001b[0m\n\u001b[0;32m    562\u001b[0m           outputs = execute.execute_with_cancellation(\n",
      "\u001b[1;32m~\\anaconda3\\envs\\envTF24\\lib\\site-packages\\tensorflow\\python\\eager\\execute.py\u001b[0m in \u001b[0;36mquick_execute\u001b[1;34m(op_name, num_outputs, inputs, attrs, ctx, name)\u001b[0m\n\u001b[0;32m     58\u001b[0m     \u001b[0mctx\u001b[0m\u001b[1;33m.\u001b[0m\u001b[0mensure_initialized\u001b[0m\u001b[1;33m(\u001b[0m\u001b[1;33m)\u001b[0m\u001b[1;33m\u001b[0m\u001b[1;33m\u001b[0m\u001b[0m\n\u001b[0;32m     59\u001b[0m     tensors = pywrap_tfe.TFE_Py_Execute(ctx._handle, device_name, op_name,\n\u001b[1;32m---> 60\u001b[1;33m                                         inputs, attrs, num_outputs)\n\u001b[0m\u001b[0;32m     61\u001b[0m   \u001b[1;32mexcept\u001b[0m \u001b[0mcore\u001b[0m\u001b[1;33m.\u001b[0m\u001b[0m_NotOkStatusException\u001b[0m \u001b[1;32mas\u001b[0m \u001b[0me\u001b[0m\u001b[1;33m:\u001b[0m\u001b[1;33m\u001b[0m\u001b[1;33m\u001b[0m\u001b[0m\n\u001b[0;32m     62\u001b[0m     \u001b[1;32mif\u001b[0m \u001b[0mname\u001b[0m \u001b[1;32mis\u001b[0m \u001b[1;32mnot\u001b[0m \u001b[1;32mNone\u001b[0m\u001b[1;33m:\u001b[0m\u001b[1;33m\u001b[0m\u001b[1;33m\u001b[0m\u001b[0m\n",
      "\u001b[1;31mKeyboardInterrupt\u001b[0m: "
     ]
    }
   ],
   "source": [
    "shuffler = np.random.permutation(len(X_train))\n",
    "X_train = X_train[shuffler]\n",
    "y_train = y_train[shuffler]\n",
    "\n",
    "y=tf.keras.utils.to_categorical(y_train)\n",
    "\n",
    "bs=600\n",
    "def add_noise(img):\n",
    "    '''Add random noise to an image'''\n",
    "    p=np.random.uniform()\n",
    "    if p>0.5:\n",
    "        noise = np.random.normal(0, 5, img.shape)\n",
    "        img += noise\n",
    "        np.clip(img, 0., 255.)\n",
    "    return img\n",
    "train_datagen = ImageDataGenerator(\n",
    "        shear_range=0.3,\n",
    "        zoom_range=0.3,\n",
    "        vertical_flip=True,\n",
    "        rotation_range=35.,\n",
    "        fill_mode='reflect', \n",
    "        width_shift_range = 0.15, \n",
    "        height_shift_range = 0.15,\n",
    "        brightness_range=(0.3, 1.4),\n",
    "        preprocessing_function=add_noise)\n",
    "\n",
    "train_generator = train_datagen.flow(X_train, y, batch_size=bs)\n",
    "step_size_train=train_generator.n//train_generator.batch_size\n",
    "\n",
    "base_learning_rate = 0.00005\n",
    "model.compile(optimizer=tf.keras.optimizers.Adam(learning_rate=base_learning_rate),loss='categorical_crossentropy', metrics = ['acc'])\n",
    "model.summary()\n",
    "model= tf.keras.models.load_model(\"./concat_models/model_final\")\n",
    "history=model.fit(train_generator,\n",
    "                   steps_per_epoch = step_size_train,\n",
    "                   epochs = 1,\n",
    "                   validation_data=(Xval, yval),shuffle=True)\n",
    "model.save(\"./concat_models/model_final2\") #Save step 3 for potential reuse"
   ]
  },
  {
   "cell_type": "code",
   "execution_count": 10,
   "metadata": {},
   "outputs": [
    {
     "name": "stdout",
     "output_type": "stream",
     "text": [
      "INFO:tensorflow:Assets written to: ./concat_models/modelfinal2\\assets\n"
     ]
    }
   ],
   "source": [
    "model.save(\"./concat_models/modelfinal2\")"
   ]
  },
  {
   "cell_type": "code",
   "execution_count": 7,
   "metadata": {},
   "outputs": [
    {
     "name": "stdout",
     "output_type": "stream",
     "text": [
      "Model: \"model_2\"\n",
      "__________________________________________________________________________________________________\n",
      "Layer (type)                    Output Shape         Param #     Connected to                     \n",
      "==================================================================================================\n",
      "input_1 (InputLayer)            [(None, 128, 128, 3) 0                                            \n",
      "__________________________________________________________________________________________________\n",
      "model (Functional)              (None, 2048)         10186304    input_1[0][0]                    \n",
      "__________________________________________________________________________________________________\n",
      "model_1 (Functional)            (None, 2048)         31957504    input_1[0][0]                    \n",
      "__________________________________________________________________________________________________\n",
      "concatenate (Concatenate)       (None, 4096)         0           model[0][0]                      \n",
      "                                                                 model_1[0][0]                    \n",
      "__________________________________________________________________________________________________\n",
      "dense (Dense)                   (None, 2048)         8390656     concatenate[0][0]                \n",
      "__________________________________________________________________________________________________\n",
      "dropout (Dropout)               (None, 2048)         0           dense[0][0]                      \n",
      "__________________________________________________________________________________________________\n",
      "dense_1 (Dense)                 (None, 512)          1049088     dropout[0][0]                    \n",
      "__________________________________________________________________________________________________\n",
      "dense_2 (Dense)                 (None, 256)          131328      dense_1[0][0]                    \n",
      "__________________________________________________________________________________________________\n",
      "dense_3 (Dense)                 (None, 5)            1285        dense_2[0][0]                    \n",
      "==================================================================================================\n",
      "Total params: 51,716,165\n",
      "Trainable params: 51,587,077\n",
      "Non-trainable params: 129,088\n",
      "__________________________________________________________________________________________________\n",
      "21/21 [==============================] - 2775s 131s/step - loss: 2.0904 - acc: 0.9545 - val_loss: 1.9645 - val_acc: 0.9920\n"
     ]
    }
   ],
   "source": [
    "shuffler = np.random.permutation(len(X_train))\n",
    "X_train = X_train[shuffler]\n",
    "y_train = y_train[shuffler]\n",
    "\n",
    "y=tf.keras.utils.to_categorical(y_train)\n",
    "\n",
    "bs=700\n",
    "def add_noise(img):\n",
    "    '''Add random noise to an image'''\n",
    "    p=np.random.uniform()\n",
    "    if p>0.5:\n",
    "        noise = np.random.normal(0, 10, img.shape)\n",
    "        img += noise\n",
    "        np.clip(img, 0., 255.)\n",
    "    return img\n",
    "train_datagen = ImageDataGenerator(\n",
    "        shear_range=0.3,\n",
    "        zoom_range=0.2,\n",
    "        vertical_flip=True,\n",
    "        rotation_range=38.,\n",
    "        fill_mode='wrap', \n",
    "        width_shift_range = 0.16, \n",
    "        height_shift_range = 0.16,\n",
    "        brightness_range=(0.3, 1.4),\n",
    "        preprocessing_function=add_noise)\n",
    "\n",
    "train_generator = train_datagen.flow(X_train, y, batch_size=bs)\n",
    "step_size_train=train_generator.n//train_generator.batch_size\n",
    "\n",
    "base_learning_rate = 0.00003\n",
    "model= tf.keras.models.load_model(\"./concat_models/modelfinal2\")\n",
    "model.compile(optimizer=tf.keras.optimizers.Adam(learning_rate=base_learning_rate),loss='categorical_crossentropy', metrics = ['acc'])\n",
    "model.summary()\n",
    "\n",
    "history=model.fit(train_generator,\n",
    "                   steps_per_epoch = step_size_train,\n",
    "                   epochs = 1,\n",
    "                   validation_data=(Xval, yval),shuffle=True)\n"
   ]
  },
  {
   "cell_type": "code",
   "execution_count": 8,
   "metadata": {},
   "outputs": [
    {
     "name": "stdout",
     "output_type": "stream",
     "text": [
      "INFO:tensorflow:Assets written to: ./concat_models/modelfinal3\\assets\n"
     ]
    }
   ],
   "source": [
    "model.save(\"./concat_models/modelfinal_contact\")"
   ]
  },
  {
   "cell_type": "markdown",
   "metadata": {},
   "source": [
    "<h3>Lion mail drive link to the model: <a href=\"https://drive.google.com/drive/folders/13LU6Z5qObxH6pxdUo9N531-eqFGlvAIV?usp=sharing\">https://drive.google.com/drive/folders/13LU6Z5qObxH6pxdUo9N531-eqFGlvAIV?usp=sharing</a></h3>"
   ]
  },
  {
   "cell_type": "markdown",
   "metadata": {},
   "source": [
    "## Generating the .csv file for Kaggle\n",
    "\n"
   ]
  },
  {
   "cell_type": "code",
   "execution_count": 7,
   "metadata": {},
   "outputs": [],
   "source": [
    "finalmodel = tf.keras.models.load_model(\"./concat_models/modelfinal_contact\")"
   ]
  },
  {
   "cell_type": "markdown",
   "metadata": {},
   "source": [
    "# Note that TTA does not always consistenly output the same predictions\n",
    "because different augmentation parameters are randomly chosen every time.\n",
    "\n",
    "\n",
    "Because inference performance is not a priority, tta steps can be unreasonably high, and yield marginaly better predictions"
   ]
  },
  {
   "cell_type": "code",
   "execution_count": 8,
   "metadata": {},
   "outputs": [
    {
     "name": "stderr",
     "output_type": "stream",
     "text": [
      "100%|██████████████████████████████████████████████████████████████████████████████████| 20/20 [03:42<00:00, 11.13s/it]\n"
     ]
    }
   ],
   "source": [
    "#FINAL PREDICTION OBTAINED WITH TTA\n",
    "\n",
    "from tqdm import tqdm\n",
    "tta_steps = 20\n",
    "predictions = []\n",
    "bs=64\n",
    "test_datagen = ImageDataGenerator(\n",
    "        shear_range=0.1,\n",
    "        zoom_range=0.1,\n",
    "        vertical_flip=True,\n",
    "        rotation_range=10.,\n",
    "        fill_mode='reflect', \n",
    "        width_shift_range = 0.1, \n",
    "        height_shift_range = 0.1,\n",
    "        brightness_range=(0.8, 1.1)\n",
    "        )\n",
    "for i in tqdm(range(tta_steps)):\n",
    "    preds = finalmodel.predict(test_datagen.flow(X_test, batch_size=bs, shuffle=False), steps = len(X_test)/bs)\n",
    "    predictions.append(preds)\n",
    "    \n",
    "final_pred = np.mean(predictions, axis=0)\n",
    "\n",
    "predicted_values_generated_by_your_model= tf.argmax(final_pred, axis=1) # right format\n"
   ]
  },
  {
   "cell_type": "code",
   "execution_count": 11,
   "metadata": {},
   "outputs": [],
   "source": [
    "import csv\n",
    "with open('predicted2.csv','w') as csvfile:\n",
    "    fieldnames = ['Id','label']\n",
    "    writer = csv.DictWriter(csvfile, fieldnames=fieldnames)\n",
    "    writer.writeheader()\n",
    "    for index,l in enumerate(predicted_values_generated_by_your_model.numpy()):\n",
    "        filename = str(index) + '.png'\n",
    "        label = str(l)\n",
    "        writer.writerow({'Id': filename, 'label': label})"
   ]
  },
  {
   "cell_type": "code",
   "execution_count": 1,
   "metadata": {},
   "outputs": [
    {
     "name": "stdout",
     "output_type": "stream",
     "text": [
      "Reading package lists... Done\n",
      "Building dependency tree       \n",
      "Reading state information... Done\n",
      "tree is already the newest version (1.7.0-5).\n",
      "The following packages were automatically installed and are no longer required:\n",
      "  libnuma1 linux-gcp-5.4-headers-5.4.0-1052\n",
      "Use 'sudo apt autoremove' to remove them.\n",
      "0 upgraded, 0 newly installed, 0 to remove and 51 not upgraded.\n"
     ]
    }
   ],
   "source": [
    "!sudo apt-get install tree\n",
    "!tree ./ >> README.md"
   ]
  }
 ],
 "metadata": {
  "kernelspec": {
   "display_name": "Python 3 (ipykernel)",
   "language": "python",
   "name": "python3"
  },
  "language_info": {
   "codemirror_mode": {
    "name": "ipython",
    "version": 3
   },
   "file_extension": ".py",
   "mimetype": "text/x-python",
   "name": "python",
   "nbconvert_exporter": "python",
   "pygments_lexer": "ipython3",
   "version": "3.7.11"
  }
 },
 "nbformat": 4,
 "nbformat_minor": 4
}
